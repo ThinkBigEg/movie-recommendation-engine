{
 "cells": [
  {
   "cell_type": "markdown",
   "metadata": {},
   "source": [
    "# Spark-Redis-Recommender\n",
    "\n",
    "In this notebook, we will walk through the development of a Movie Recommendaiton engine. We will use the ratings dataset from `MovieLens` to train an `ALS model` using `Apache Spark ML` package. We will store the model results in `Redis`, a fast in-memory key-value store and serve recommendations from there.\n",
    "\n",
    "\n",
    "**In this notebook we will walk through**\n",
    "\n",
    "- Loading the MovieLen dataset and performing some data exploration tasks\n",
    "- Building/Training a Matrix Factorization (ALS) model on the user-ratings data using Apache Spark\n",
    "- Storing the model outcomes in Redis\n",
    "- Serving recommendations from Redis "
   ]
  },
  {
   "cell_type": "markdown",
   "metadata": {},
   "source": [
    "## Pre-requisists \n",
    "\n",
    "In order to run this notebook successfully you will need to\n",
    "\n",
    " - download and unzip the [MovieLens Dataset](https://grouplens.org/datasets/movielens/), and export ```DATASET_PATH``` as an environment variable (highlighted below).\n",
    "   - Download the [small-dataset](http://files.grouplens.org/datasets/movielens/ml-latest-small.zip)\n",
    "   - Download the [full-dataset](http://files.grouplens.org/datasets/movielens/ml-latest.zip)\n",
    "\n",
    " - create and use a python v.3.5 environment with the following packages installed:\n",
    "   - numpy \n",
    "   - matplotlib \n",
    "   - redis\n",
    "   \n",
    " - have a valid pyspark installation (either a cluster or locally)\n",
    "   - this notebook is expected to run via something like \n",
    "   ```bash\n",
    "   export PYSPARK_DRIVER_PYTHON=\"jupyter\"\n",
    "   export PYSPARK_DRIVER_PYTHON_OPTS=\"notebook\"\n",
    "   export DATASET_PATH=/path/to/dataset\n",
    "   $SPARK_HOME/bin/pyspark\n",
    "   ```\n",
    "   \n",
    "   which creates a SparkSession object under the hood and bind it to the notebook. Alternatively, SparkSession object can be initialized using: \n",
    "   ```python\n",
    "   from pyspark.sql import SparkSession\n",
    "   # programmatically create SparkSession\n",
    "   spark = SparkSession.builder.getOrCreate()\n",
    "   ```\n",
    "   \n",
    "   **note:** the python environment at the driver and executors shall be identical \n",
    " - have a valid `redis` deployment\n",
    "   - for example, you can use docker ```docker run -d -p 6379:6379 redis ```\n",
    "    \n",
    " - create a valid TMDB APIKEY (to show movie posters while serving recommendations). More information on how to create a TMDB APIKEY can be found [here](https://developers.themoviedb.org/3)"
   ]
  },
  {
   "cell_type": "markdown",
   "metadata": {},
   "source": [
    "## Using Redis\n",
    "\n",
    "For the purpose of this demonstration, we are running a `single Redis instance` locally, and using `multiple=3 Redis Databases`. One for storing the `input: UserTopRatings`, one for storing the `input: MoviesInformation` and one for storing the model `output: UserTopRecommendations`. In a typical recommendaiton pipeline, you would store the latter only.\n",
    "\n",
    "Using Multiple Databases running on a SINGLE instance, is deprecated because it is, in general, better to launch multiple Redis servers on the same machine rather than using multiple databases. Redis is single threaded. Thus, a single Redis server with multiple databases only uses one CPU core. On the other hand, if multiple Redis servers are used, it is possible to take advantage of multiple CPU cores. Multiple databases make administration of Redis harder and may complicate performance and resource usage diagnosis. It would not be easy to figure out which database is causing issues. Some Redis clients do not even support multiple Redis...\n",
    "\n",
    "Note that we are writing the data to the single redis instance via the driver only. We are not using any spark connectors for redis. Typically you would use something like the one represented here: https://github.com/Anchormen/spark-redis-connector "
   ]
  },
  {
   "cell_type": "code",
   "execution_count": 1,
   "metadata": {},
   "outputs": [],
   "source": [
    "import redis\n",
    "redis_host='localhost'\n",
    "redis_port=6379\n",
    "\n",
    "# redis client to manage writing to and reading from the REDIS database for input: UserTopRatings\n",
    "ratings_dbid=0\n",
    "redis_ratings = redis.StrictRedis(host=redis_host, port=redis_port, db=ratings_dbid)\n",
    "\n",
    "# redis client to manage writing to and reading from the REDIS database for input: MoviesInformation\n",
    "movies_dbid=1\n",
    "redis_movies = redis.StrictRedis(host=redis_host, port=redis_port, db=movies_dbid)\n",
    "\n",
    "# redis client to manage writing to and reading from the REDIS database for the model output: USerTopRecommendations\n",
    "recommendations_dbid=2\n",
    "redis_recommendations = redis.StrictRedis(host=redis_host, port=redis_port, db=recommendations_dbid)"
   ]
  },
  {
   "cell_type": "markdown",
   "metadata": {},
   "source": [
    "### verify python version "
   ]
  },
  {
   "cell_type": "code",
   "execution_count": 2,
   "metadata": {},
   "outputs": [
    {
     "name": "stdout",
     "output_type": "stream",
     "text": [
      "Python 3.5.6 :: Anaconda, Inc.\r\n"
     ]
    }
   ],
   "source": [
    "# verify python version\n",
    "! python --version"
   ]
  },
  {
   "cell_type": "markdown",
   "metadata": {},
   "source": [
    "### verify spark is running  "
   ]
  },
  {
   "cell_type": "code",
   "execution_count": 3,
   "metadata": {},
   "outputs": [
    {
     "data": {
      "text/html": [
       "\n",
       "            <div>\n",
       "                <p><b>SparkSession - hive</b></p>\n",
       "                \n",
       "        <div>\n",
       "            <p><b>SparkContext</b></p>\n",
       "\n",
       "            <p><a href=\"http://192.168.1.84:4040\">Spark UI</a></p>\n",
       "\n",
       "            <dl>\n",
       "              <dt>Version</dt>\n",
       "                <dd><code>v2.3.1</code></dd>\n",
       "              <dt>Master</dt>\n",
       "                <dd><code>local[*]</code></dd>\n",
       "              <dt>AppName</dt>\n",
       "                <dd><code>PySparkShell</code></dd>\n",
       "            </dl>\n",
       "        </div>\n",
       "        \n",
       "            </div>\n",
       "        "
      ],
      "text/plain": [
       "<pyspark.sql.session.SparkSession at 0x7f65eb1c1438>"
      ]
     },
     "execution_count": 3,
     "metadata": {},
     "output_type": "execute_result"
    }
   ],
   "source": [
    "# verify spark is running \n",
    "spark"
   ]
  },
  {
   "cell_type": "markdown",
   "metadata": {},
   "source": [
    "### verify dataset path\n",
    "* This notebook uses the **small** version of the latest `MovieLens` movie rating dataset, containing around `9,000 movie`, `600 user` and `100,000` rating.\n",
    "\n",
    "* The latest version of the data can be downloaded from https://grouplens.org/datasets/movielens/latest/\n",
    "* Download the `ml-latest-small.zip` file and unzip it to a suitable location on your system\n",
    "\n",
    "The folder should contain a number of CSV files. We will be using the following files:\n",
    "* `ratings.csv` - movie rating data\n",
    "* `links.csv` - external database ids for each movie\n",
    "* `movies.csv` - movie title and genres"
   ]
  },
  {
   "cell_type": "code",
   "execution_count": 4,
   "metadata": {},
   "outputs": [
    {
     "name": "stdout",
     "output_type": "stream",
     "text": [
      "dataset_path: /home/elsiouffy/Development/data/ml-latest-small\n",
      "dataset_files: ['movies.csv', 'links.csv', 'ratings.csv', 'README.txt', 'tags.csv']\n"
     ]
    }
   ],
   "source": [
    "import os\n",
    "dataset_path=os.environ['DATASET_PATH']\n",
    "print('dataset_path: {}'.format(dataset_path))\n",
    "\n",
    "dataset_files=os.listdir(dataset_path)\n",
    "print('dataset_files: {}'.format(dataset_files))"
   ]
  },
  {
   "cell_type": "markdown",
   "metadata": {},
   "source": [
    "## Step 1: Loading The Data & Data Exploration "
   ]
  },
  {
   "cell_type": "markdown",
   "metadata": {},
   "source": [
    "### Load Ratings Data\n",
    "\n",
    "The ratings data consists of around 100,000 ratings given by users to movies. Each row of the `DataFrame` consists of a `userId`, `movieId`, `timestamp` and `rating` given by the user to the movie."
   ]
  },
  {
   "cell_type": "code",
   "execution_count": 5,
   "metadata": {},
   "outputs": [
    {
     "name": "stdout",
     "output_type": "stream",
     "text": [
      "ratings_count: 100836\n",
      "+------+-------+------+\n",
      "|userId|movieId|rating|\n",
      "+------+-------+------+\n",
      "|1     |1      |4.0   |\n",
      "|1     |3      |4.0   |\n",
      "|1     |6      |4.0   |\n",
      "|1     |47     |5.0   |\n",
      "|1     |50     |5.0   |\n",
      "+------+-------+------+\n",
      "only showing top 5 rows\n",
      "\n",
      "root\n",
      " |-- userId: integer (nullable = true)\n",
      " |-- movieId: integer (nullable = true)\n",
      " |-- rating: double (nullable = true)\n",
      "\n"
     ]
    }
   ],
   "source": [
    "# load ratings data\n",
    "# drop timestamp column since its not used in building the model\n",
    "ratings_df = spark \\\n",
    "    .read \\\n",
    "    .csv(\"{}/{}\".format(dataset_path, \"ratings.csv\"), header=True, inferSchema=True) \\\n",
    "    .drop('timestamp') \\\n",
    "    .cache()\n",
    "\n",
    "ratings_count=ratings_df.count()\n",
    "\n",
    "print(\"ratings_count: {}\".format(ratings_count))\n",
    "ratings_df.show(5, truncate=False)\n",
    "ratings_df.printSchema()"
   ]
  },
  {
   "cell_type": "markdown",
   "metadata": {},
   "source": [
    "### Ratings Data Exploration [Users]\n",
    "In the following cells we show \n",
    " - the number of users\n",
    " - the minimum number of ratings given by a user\n",
    " - the maximum number of ratings given by a user \n",
    " - the average number of ratings given by a user "
   ]
  },
  {
   "cell_type": "code",
   "execution_count": 6,
   "metadata": {},
   "outputs": [
    {
     "name": "stdout",
     "output_type": "stream",
     "text": [
      "n_users: 610\n",
      "min_user_rating_count: 20\n",
      "max_user_rating_count: 2698\n",
      "avg_user_rating_count: 165.30491803278687\n"
     ]
    }
   ],
   "source": [
    "from pyspark.sql.functions import col\n",
    "n_users = ratings_df.select('userId').distinct().count()\n",
    "min_user_rating_count = ratings_df.groupby('userId').count().sort(col('count').asc()).take(1)[0]['count']\n",
    "max_user_rating_count = ratings_df.groupby('userId').count().sort(col('count').desc()).take(1)[0]['count']\n",
    "avg_user_rating_count = ratings_df.groupby('userId').count().groupby().avg('count').take(1)[0]['avg(count)']\n",
    "\n",
    "print(\"n_users: {}\".format(n_users))\n",
    "print('min_user_rating_count: {}'.format(min_user_rating_count))\n",
    "print('max_user_rating_count: {}'.format(max_user_rating_count))\n",
    "print('avg_user_rating_count: {}'.format(avg_user_rating_count))"
   ]
  },
  {
   "cell_type": "markdown",
   "metadata": {},
   "source": [
    "using a more efficient way (multiple aggregations)"
   ]
  },
  {
   "cell_type": "code",
   "execution_count": 7,
   "metadata": {},
   "outputs": [
    {
     "name": "stdout",
     "output_type": "stream",
     "text": [
      "+-------+---------------------+---------------------+---------------------+\n",
      "|n_users|min_user_rating_count|max_user_rating_count|avg_user_rating_count|\n",
      "+-------+---------------------+---------------------+---------------------+\n",
      "|    610|                   20|                 2698|   165.30491803278687|\n",
      "+-------+---------------------+---------------------+---------------------+\n",
      "\n"
     ]
    }
   ],
   "source": [
    "import pyspark.sql.functions as F\n",
    "\n",
    "ratings_df.groupby('userId').count() \\\n",
    "    .agg(\n",
    "        F.count('count').alias('n_users'), \n",
    "        F.min('count').alias('min_user_rating_count'), \n",
    "        F.max('count').alias('max_user_rating_count'), \n",
    "        F.avg('count').alias('avg_user_rating_count')\n",
    "        ) \\\n",
    "    .show()"
   ]
  },
  {
   "cell_type": "markdown",
   "metadata": {},
   "source": [
    "using built in describe function in Spark "
   ]
  },
  {
   "cell_type": "code",
   "execution_count": 8,
   "metadata": {},
   "outputs": [
    {
     "name": "stdout",
     "output_type": "stream",
     "text": [
      "summary statistics user ratings counts\n",
      "+-------+------------------+\n",
      "|summary|             count|\n",
      "+-------+------------------+\n",
      "|  count|               610|\n",
      "|   mean|165.30491803278687|\n",
      "| stddev| 269.4805843871719|\n",
      "|    min|                20|\n",
      "|    max|              2698|\n",
      "+-------+------------------+\n",
      "\n"
     ]
    }
   ],
   "source": [
    "print(\"summary statistics user ratings counts\")\n",
    "ratings_df.groupBy(\"userId\").count().select('count').describe().show()"
   ]
  },
  {
   "cell_type": "markdown",
   "metadata": {},
   "source": [
    "### Ratings Data Exploration [Movies]\n",
    "In the following cells we show \n",
    " - the number of movies\n",
    " - the minimum number of ratings given to a movie\n",
    " - the maximum number of ratings given to a movie\n",
    " - the average number of ratings given to a movie\n",
    "\n",
    "using built in `describe` function in Spark"
   ]
  },
  {
   "cell_type": "code",
   "execution_count": 9,
   "metadata": {},
   "outputs": [
    {
     "name": "stdout",
     "output_type": "stream",
     "text": [
      "summary statistics movies ratings counts\n",
      "+-------+------------------+\n",
      "|summary|             count|\n",
      "+-------+------------------+\n",
      "|  count|              9724|\n",
      "|   mean|10.369806663924312|\n",
      "| stddev| 22.40100480960961|\n",
      "|    min|                 1|\n",
      "|    max|               329|\n",
      "+-------+------------------+\n",
      "\n"
     ]
    }
   ],
   "source": [
    "print(\"summary statistics movies ratings counts\")\n",
    "ratings_df.groupBy(\"movieId\").count().select('count').describe().show()"
   ]
  },
  {
   "cell_type": "markdown",
   "metadata": {},
   "source": [
    "### Ratings Data Exploration [Ratings]\n",
    "In the following cells we show/plot the distribution of ratings"
   ]
  },
  {
   "cell_type": "code",
   "execution_count": 10,
   "metadata": {},
   "outputs": [
    {
     "name": "stdout",
     "output_type": "stream",
     "text": [
      "+------+-----+\n",
      "|rating|count|\n",
      "+------+-----+\n",
      "|   0.5| 1370|\n",
      "|   1.0| 2811|\n",
      "|   1.5| 1791|\n",
      "|   2.0| 7551|\n",
      "|   2.5| 5550|\n",
      "|   3.0|20047|\n",
      "|   3.5|13136|\n",
      "|   4.0|26818|\n",
      "|   4.5| 8551|\n",
      "|   5.0|13211|\n",
      "+------+-----+\n",
      "\n"
     ]
    }
   ],
   "source": [
    "from pyspark.sql.functions import asc\n",
    "ratings_df.groupby('rating').count().sort(asc('rating')).show()"
   ]
  },
  {
   "cell_type": "code",
   "execution_count": 11,
   "metadata": {},
   "outputs": [
    {
     "name": "stdout",
     "output_type": "stream",
     "text": [
      "sorted_ratings_counts_list: [1370, 2811, 1791, 7551, 5550, 20047, 13136, 26818, 8551, 13211]\n"
     ]
    }
   ],
   "source": [
    "# creating a sorted list of ratings counts (to use in plots)\n",
    "x = ratings_df.groupBy(\"rating\").count().collect()\n",
    "\n",
    "# sort in place based on ratings (i.e. from 0.5 -- 5)\n",
    "x.sort(key=lambda x: x['rating'], reverse=False)\n",
    "sorted_ratings_counts_list = list(map(lambda x: x['count'], x))\n",
    "print(\"sorted_ratings_counts_list: {}\".format(sorted_ratings_counts_list))"
   ]
  },
  {
   "cell_type": "code",
   "execution_count": 12,
   "metadata": {},
   "outputs": [
    {
     "data": {
      "text/plain": [
       "<Figure size 640x480 with 1 Axes>"
      ]
     },
     "metadata": {},
     "output_type": "display_data"
    }
   ],
   "source": [
    "import numpy as np\n",
    "import matplotlib.pyplot as plt\n",
    "\n",
    "n_groups = 10\n",
    "fig, ax = plt.subplots()\n",
    "index = np.arange(n_groups)\n",
    "x_labels=list(map(lambda x: str(x), list(np.arange(0.5,5.5,0.5))))\n",
    "bar_width = 0.5\n",
    "opacity = 0.4\n",
    "\n",
    "rects1 = plt.bar(index, sorted_ratings_counts_list, bar_width, alpha=opacity, color='b', label='ratings')\n",
    "plt.xlabel('ratings')\n",
    "plt.ylabel('Counts')\n",
    "\n",
    "plt.title('Distribution of ratings')\n",
    "\n",
    "plt.xticks(index + bar_width, x_labels)\n",
    "plt.legend()\n",
    "plt.tight_layout()\n",
    "plt.show()"
   ]
  },
  {
   "cell_type": "markdown",
   "metadata": {},
   "source": [
    "### Ratings Data Exploration [Other]\n"
   ]
  },
  {
   "cell_type": "code",
   "execution_count": 13,
   "metadata": {},
   "outputs": [
    {
     "name": "stdout",
     "output_type": "stream",
     "text": [
      "+-------------+---+---+---+---+---+---+---+---+---+---+\n",
      "|userId_rating|0.5|1.0|1.5|2.0|2.5|3.0|3.5|4.0|4.5|5.0|\n",
      "+-------------+---+---+---+---+---+---+---+---+---+---+\n",
      "|           69|  0|  0|  0|  2|  0|  3|  0| 17|  0| 24|\n",
      "|          365| 12| 14| 28| 36| 41| 47| 49| 32| 10|  8|\n",
      "|          138|  2|  0|  3|  0|  2|  2|  1|  1|  3|  8|\n",
      "|          101|  0|  3|  0|  8|  0| 11|  0| 30|  0|  9|\n",
      "|          479|  0| 15|  0| 30|  0| 51|  0| 52|  0| 33|\n",
      "+-------------+---+---+---+---+---+---+---+---+---+---+\n",
      "only showing top 5 rows\n",
      "\n",
      "+--------------+---+---+---+---+---+---+---+---+---+---+\n",
      "|movieId_rating|0.5|1.0|1.5|2.0|2.5|3.0|3.5|4.0|4.5|5.0|\n",
      "+--------------+---+---+---+---+---+---+---+---+---+---+\n",
      "|          2163|  0|  1|  0|  1|  2|  1|  0|  0|  0|  0|\n",
      "|          8607|  0|  0|  0|  0|  0|  1|  1|  2|  0|  1|\n",
      "|           645|  0|  0|  0|  0|  0|  1|  0|  1|  0|  0|\n",
      "|         95105|  0|  0|  0|  1|  3|  0|  1|  2|  1|  1|\n",
      "|           892|  0|  0|  0|  0|  0|  6|  2|  4|  0|  1|\n",
      "+--------------+---+---+---+---+---+---+---+---+---+---+\n",
      "only showing top 5 rows\n",
      "\n"
     ]
    }
   ],
   "source": [
    "ratings_df.stat.crosstab(\"userId\", \"rating\").show(5)\n",
    "ratings_df.stat.crosstab(\"movieId\", \"rating\").show(5)"
   ]
  },
  {
   "cell_type": "markdown",
   "metadata": {},
   "source": [
    "### Writing User Top Ratings To Redis\n",
    "In the following cells we will write each users TOP ratings into Redis. This step is only performed for the purpose of this tutorial, as the users top ratings will be displayed later with recommendations, and is not required in a typical recommenaditon engine.\n"
   ]
  },
  {
   "cell_type": "code",
   "execution_count": 14,
   "metadata": {},
   "outputs": [
    {
     "name": "stdout",
     "output_type": "stream",
     "text": [
      "+------+--------------+\n",
      "|userId|movieAndRating|\n",
      "+------+--------------+\n",
      "|1     |[1, 4.0]      |\n",
      "|1     |[3, 4.0]      |\n",
      "|1     |[6, 4.0]      |\n",
      "|1     |[47, 5.0]     |\n",
      "|1     |[50, 5.0]     |\n",
      "+------+--------------+\n",
      "only showing top 5 rows\n",
      "\n",
      "root\n",
      " |-- userId: integer (nullable = true)\n",
      " |-- movieAndRating: struct (nullable = false)\n",
      " |    |-- movieId: integer (nullable = true)\n",
      " |    |-- rating: double (nullable = true)\n",
      "\n"
     ]
    }
   ],
   "source": [
    "from pyspark.sql.functions import struct\n",
    "user_ratings_df = ratings_df.select('userId', struct('movieId', 'rating').alias('movieAndRating'))\n",
    "user_ratings_df.show(5, truncate=False)\n",
    "user_ratings_df.printSchema()"
   ]
  },
  {
   "cell_type": "code",
   "execution_count": 15,
   "metadata": {},
   "outputs": [
    {
     "name": "stdout",
     "output_type": "stream",
     "text": [
      "+------+--------------------+\n",
      "|userId|         userRatings|\n",
      "+------+--------------------+\n",
      "|   148|[[356, 4.0], [119...|\n",
      "|   463|[[110, 4.5], [296...|\n",
      "|   471|[[1, 5.0], [296, ...|\n",
      "|   496|[[720, 1.0], [858...|\n",
      "|   243|[[10, 5.0], [36, ...|\n",
      "+------+--------------------+\n",
      "only showing top 5 rows\n",
      "\n",
      "root\n",
      " |-- userId: integer (nullable = true)\n",
      " |-- userRatings: array (nullable = true)\n",
      " |    |-- element: struct (containsNull = true)\n",
      " |    |    |-- movieId: integer (nullable = true)\n",
      " |    |    |-- rating: double (nullable = true)\n",
      "\n"
     ]
    }
   ],
   "source": [
    "from pyspark.sql.functions import collect_list\n",
    "\n",
    "user_ratings_df = user_ratings_df \\\n",
    "    .groupby('userId') \\\n",
    "    .agg(collect_list('movieAndRating').alias('userRatings'))\n",
    "\n",
    "user_ratings_df.show(5)\n",
    "user_ratings_df.printSchema()"
   ]
  },
  {
   "cell_type": "code",
   "execution_count": 16,
   "metadata": {},
   "outputs": [
    {
     "name": "stdout",
     "output_type": "stream",
     "text": [
      "user_ratings_schema: ArrayType(StructType(List(StructField(movieId,IntegerType,true),StructField(rating,DoubleType,true))),true)\n"
     ]
    },
    {
     "data": {
      "text/plain": [
       "[[1, 10], [3, 4], [3, 3], [1, 2], [3, 2]]"
      ]
     },
     "execution_count": 16,
     "metadata": {},
     "output_type": "execute_result"
    }
   ],
   "source": [
    "from pyspark.sql.functions import udf\n",
    "\n",
    "user_ratings_schema = user_ratings_df.select('userRatings').schema.fields[0].dataType\n",
    "print(\"user_ratings_schema: {}\".format(user_ratings_schema))\n",
    "\n",
    "def sort_and_limit(lst, n=5, desc=True):\n",
    "    return sorted(lst, key=lambda x: x[1], reverse=desc)[0:n]\n",
    "sort_and_limit_udf = udf(sort_and_limit, user_ratings_schema)\n",
    "\n",
    "l=[[1,2],[3,4],[3,2],[0,1], [13,2],[10,1],[1,10],[3,3]]\n",
    "sort_and_limit(l)"
   ]
  },
  {
   "cell_type": "code",
   "execution_count": 17,
   "metadata": {},
   "outputs": [
    {
     "name": "stdout",
     "output_type": "stream",
     "text": [
      "+------+----------------------------------------------------------------------+\n",
      "|userId|userRatings                                                           |\n",
      "+------+----------------------------------------------------------------------+\n",
      "|148   |[[30816, 5.0], [40629, 5.0], [98491, 5.0], [60069, 4.5], [81847, 4.5]]|\n",
      "|463   |[[5952, 5.0], [7153, 5.0], [110, 4.5], [1221, 4.5], [1552, 4.5]]      |\n",
      "|471   |[[1, 5.0], [2324, 5.0], [79702, 5.0], [527, 4.5], [60069, 4.5]]       |\n",
      "|496   |[[858, 5.0], [904, 5.0], [912, 4.5], [58559, 4.5], [106920, 4.5]]     |\n",
      "|243   |[[10, 5.0], [62, 5.0], [112, 5.0], [161, 5.0], [165, 5.0]]            |\n",
      "+------+----------------------------------------------------------------------+\n",
      "only showing top 5 rows\n",
      "\n",
      "root\n",
      " |-- userId: integer (nullable = true)\n",
      " |-- userRatings: array (nullable = true)\n",
      " |    |-- element: struct (containsNull = true)\n",
      " |    |    |-- movieId: integer (nullable = true)\n",
      " |    |    |-- rating: double (nullable = true)\n",
      "\n"
     ]
    }
   ],
   "source": [
    "user_ratings_df = user_ratings_df.select('userId', sort_and_limit_udf('userRatings').alias('userRatings'))\n",
    "\n",
    "user_ratings_df.show(5, truncate=False)\n",
    "user_ratings_df.printSchema()"
   ]
  },
  {
   "cell_type": "code",
   "execution_count": 18,
   "metadata": {},
   "outputs": [],
   "source": [
    "def write_user_ratings_to_redis (redis_client, user_ratings_df, ratings_col='userRatings'):\n",
    "    \n",
    "    \"\"\"\n",
    "    writes movies ratings for each user into redis sorted set\n",
    "    i.e. will be sorted by rating in redis\n",
    "    \n",
    "    user_ratings_df: Row(userId=>Int: userRatings=>List[Row(moveidId, rating)]) \n",
    "    \"\"\"\n",
    "\n",
    "    # writes to redis sorted set Key=userId, value=List[movieId] sorted by rating\n",
    "    for row in user_ratings_df.collect():\n",
    "        uid = row['userId']\n",
    "        ratings_list = row[ratings_col]\n",
    "        ratings_dict = dict()\n",
    "        \n",
    "        # ratings_dict: {movieId1: rating1, movieId2: rating2, ...etc.}\n",
    "        for rating in ratings_list:\n",
    "            key = str(rating['movieId'])\n",
    "            vlu = rating['rating']\n",
    "            ratings_dict[key]=vlu\n",
    "\n",
    "        redis_client.delete(uid)\n",
    "        redis_client.zadd(uid, **ratings_dict)"
   ]
  },
  {
   "cell_type": "code",
   "execution_count": 19,
   "metadata": {},
   "outputs": [
    {
     "name": "stdout",
     "output_type": "stream",
     "text": [
      "writing input user ratings to redis sorted set\n",
      "DONE!\n"
     ]
    }
   ],
   "source": [
    "print('writing input user ratings to redis sorted set')\n",
    "write_user_ratings_to_redis(redis_ratings, user_ratings_df)\n",
    "print('DONE!')"
   ]
  },
  {
   "cell_type": "code",
   "execution_count": 20,
   "metadata": {},
   "outputs": [
    {
     "data": {
      "text/plain": [
       "[(b'39', 5.0), (b'34', 5.0), (b'2', 5.0), (b'19', 5.0), (b'1', 5.0)]"
      ]
     },
     "execution_count": 20,
     "metadata": {},
     "output_type": "execute_result"
    }
   ],
   "source": [
    "uid=240\n",
    "n_top=5\n",
    "redis_ratings.zrange(uid, 0, n_top-1, desc=True, withscores=True)"
   ]
  },
  {
   "cell_type": "markdown",
   "metadata": {},
   "source": [
    "### Load Movies Data"
   ]
  },
  {
   "cell_type": "markdown",
   "metadata": {},
   "source": [
    "The file `movies.csv` contains the `movieId`, `title` and `genres` for each movie. As you can see, the `genres` field is a bit tricky to use, as the genres are in the form of one string delimited by the `|` character: `Adventure|Animation|Children|Comedy|Fantasy`. Additionally the movie `title` string contains the `release year`, which is a separate field we can extract."
   ]
  },
  {
   "cell_type": "code",
   "execution_count": 21,
   "metadata": {},
   "outputs": [
    {
     "name": "stdout",
     "output_type": "stream",
     "text": [
      "+-------+----------------------------------+-------------------------------------------+\n",
      "|movieId|title                             |genres                                     |\n",
      "+-------+----------------------------------+-------------------------------------------+\n",
      "|1      |Toy Story (1995)                  |Adventure|Animation|Children|Comedy|Fantasy|\n",
      "|2      |Jumanji (1995)                    |Adventure|Children|Fantasy                 |\n",
      "|3      |Grumpier Old Men (1995)           |Comedy|Romance                             |\n",
      "|4      |Waiting to Exhale (1995)          |Comedy|Drama|Romance                       |\n",
      "|5      |Father of the Bride Part II (1995)|Comedy                                     |\n",
      "+-------+----------------------------------+-------------------------------------------+\n",
      "only showing top 5 rows\n",
      "\n"
     ]
    }
   ],
   "source": [
    "# load raw data from CSV\n",
    "movies_df = spark.read.csv(dataset_path + \"/movies.csv\", header=True, inferSchema=True)\n",
    "movies_df.show(5, truncate=False)"
   ]
  },
  {
   "cell_type": "markdown",
   "metadata": {},
   "source": [
    "### Movies Data Transformation 1"
   ]
  },
  {
   "cell_type": "markdown",
   "metadata": {},
   "source": [
    "Create a user-defined function (UDF) to extract this delimited string into a list of genres"
   ]
  },
  {
   "cell_type": "code",
   "execution_count": 22,
   "metadata": {},
   "outputs": [
    {
     "data": {
      "text/plain": [
       "['adventure', 'animation', 'children', 'comedy', 'fantasy']"
      ]
     },
     "execution_count": 22,
     "metadata": {},
     "output_type": "execute_result"
    }
   ],
   "source": [
    "from pyspark.sql.types import ArrayType, StringType\n",
    "# define a UDF to convert the raw genres string to an array of genres and lowercase\n",
    "def extract_genres(genres):\n",
    "    return genres.lower().split(\"|\")\n",
    "extract_genres_udf = udf(extract_genres , ArrayType(StringType()))\n",
    "extract_genres(\"Adventure|Animation|Children|Comedy|Fantasy\")"
   ]
  },
  {
   "cell_type": "markdown",
   "metadata": {},
   "source": [
    "Create a UDF to extract the release year from the title using a Python regular expression."
   ]
  },
  {
   "cell_type": "code",
   "execution_count": 23,
   "metadata": {},
   "outputs": [
    {
     "data": {
      "text/plain": [
       "('MovieExample', '2010')"
      ]
     },
     "execution_count": 23,
     "metadata": {},
     "output_type": "execute_result"
    }
   ],
   "source": [
    "from pyspark.sql.types import StructType, StructField\n",
    "import re\n",
    "\n",
    "# define a UDF to extract the release year from the title, and return the new title and year in a struct type\n",
    "def extract_year(title):\n",
    "    result = re.search(\"\\(\\d{4}\\)\", title)\n",
    "    try:\n",
    "        if result:\n",
    "            group = result.group()\n",
    "            year = group[1:-1]\n",
    "            start_pos = result.start()\n",
    "            title = title[:start_pos-1]\n",
    "            return (title, year)\n",
    "        else:\n",
    "            return (title, 1970)\n",
    "    except:\n",
    "        return (title, 1970)\n",
    "\n",
    "extract_year_udf = udf(extract_year,\\\n",
    "                   StructType([StructField(\"title\", StringType(), True),\\\n",
    "                               StructField(\"release_date\", StringType(), True)]))\n",
    "    \n",
    "\n",
    "extract_year(\"MovieExample (2010)\")"
   ]
  },
  {
   "cell_type": "markdown",
   "metadata": {},
   "source": [
    "APPLY!"
   ]
  },
  {
   "cell_type": "code",
   "execution_count": 24,
   "metadata": {},
   "outputs": [
    {
     "name": "stdout",
     "output_type": "stream",
     "text": [
      "n_movies: 9742\n",
      "+-------+---------------------------+------------+-------------------------------------------------+\n",
      "|movieId|title                      |release_date|genres                                           |\n",
      "+-------+---------------------------+------------+-------------------------------------------------+\n",
      "|1      |Toy Story                  |1995        |[adventure, animation, children, comedy, fantasy]|\n",
      "|2      |Jumanji                    |1995        |[adventure, children, fantasy]                   |\n",
      "|3      |Grumpier Old Men           |1995        |[comedy, romance]                                |\n",
      "|4      |Waiting to Exhale          |1995        |[comedy, drama, romance]                         |\n",
      "|5      |Father of the Bride Part II|1995        |[comedy]                                         |\n",
      "+-------+---------------------------+------------+-------------------------------------------------+\n",
      "only showing top 5 rows\n",
      "\n"
     ]
    }
   ],
   "source": [
    "movies_df = movies_df \\\n",
    "    .select(\"movieId\", \n",
    "            extract_year_udf(\"title\").title.alias(\"title\"), \n",
    "            extract_year_udf(\"title\").release_date.alias(\"release_date\"),\n",
    "            extract_genres_udf(\"genres\").alias(\"genres\"))\n",
    "\n",
    "n_movies = movies_df.count()\n",
    "print(\"n_movies: {}\".format(n_movies))\n",
    "movies_df.show(5, truncate=False)"
   ]
  },
  {
   "cell_type": "markdown",
   "metadata": {},
   "source": [
    "### Movies Data Transformation 2"
   ]
  },
  {
   "cell_type": "markdown",
   "metadata": {},
   "source": [
    "Next, we join the `links.csv` data to `movies` so that there is an id for _The Movie Database_ corresponding to each movie. We will use this id to retrieve movie poster images when displaying recommendations later."
   ]
  },
  {
   "cell_type": "code",
   "execution_count": 25,
   "metadata": {},
   "outputs": [
    {
     "name": "stdout",
     "output_type": "stream",
     "text": [
      "+-------+------+------+\n",
      "|movieId|imdbId|tmdbId|\n",
      "+-------+------+------+\n",
      "|      1|114709|   862|\n",
      "|      2|113497|  8844|\n",
      "|      3|113228| 15602|\n",
      "|      4|114885| 31357|\n",
      "|      5|113041| 11862|\n",
      "+-------+------+------+\n",
      "only showing top 5 rows\n",
      "\n"
     ]
    }
   ],
   "source": [
    "link_data = spark.read.csv(dataset_path + \"/links.csv\", header=True, inferSchema=True)\n",
    "link_data.show(5)"
   ]
  },
  {
   "cell_type": "code",
   "execution_count": 26,
   "metadata": {},
   "outputs": [
    {
     "name": "stdout",
     "output_type": "stream",
     "text": [
      "n_movies: 9742\n",
      "+-------+---------------------------+------------+-------------------------------------------------+------+\n",
      "|movieId|title                      |release_date|genres                                           |tmdbId|\n",
      "+-------+---------------------------+------------+-------------------------------------------------+------+\n",
      "|1      |Toy Story                  |1995        |[adventure, animation, children, comedy, fantasy]|862   |\n",
      "|2      |Jumanji                    |1995        |[adventure, children, fantasy]                   |8844  |\n",
      "|3      |Grumpier Old Men           |1995        |[comedy, romance]                                |15602 |\n",
      "|4      |Waiting to Exhale          |1995        |[comedy, drama, romance]                         |31357 |\n",
      "|5      |Father of the Bride Part II|1995        |[comedy]                                         |11862 |\n",
      "+-------+---------------------------+------------+-------------------------------------------------+------+\n",
      "only showing top 5 rows\n",
      "\n"
     ]
    }
   ],
   "source": [
    "# join movies with links to get TMDB id\n",
    "movies_df = movies_df.join(link_data, on='movieId')\\\n",
    "    .select(movies_df.columns + ['tmdbId'])\n",
    "\n",
    "n_movies = movies_df.count()\n",
    "print(\"n_movies: {}\".format(n_movies))\n",
    "movies_df.show(5, truncate=False)"
   ]
  },
  {
   "cell_type": "markdown",
   "metadata": {},
   "source": [
    "### Write Transformed Movies Data into Redis\n",
    "\n",
    "Writing movie information into redis. In Redis, each movie is represented by a key/value pair. In a giant HashMap. The `key` for each movie is the `movieId`, and the `value` itself is a `Mapping`, from field in the DataFrame to a key in the mapping"
   ]
  },
  {
   "cell_type": "code",
   "execution_count": 27,
   "metadata": {},
   "outputs": [
    {
     "name": "stdout",
     "output_type": "stream",
     "text": [
      "+-------+----------------------------------------------------------------------------+\n",
      "|movieId|movieInfo                                                                   |\n",
      "+-------+----------------------------------------------------------------------------+\n",
      "|1      |[1, Toy Story, 1995, [adventure, animation, children, comedy, fantasy], 862]|\n",
      "|2      |[2, Jumanji, 1995, [adventure, children, fantasy], 8844]                    |\n",
      "|3      |[3, Grumpier Old Men, 1995, [comedy, romance], 15602]                       |\n",
      "|4      |[4, Waiting to Exhale, 1995, [comedy, drama, romance], 31357]               |\n",
      "|5      |[5, Father of the Bride Part II, 1995, [comedy], 11862]                     |\n",
      "+-------+----------------------------------------------------------------------------+\n",
      "only showing top 5 rows\n",
      "\n",
      "root\n",
      " |-- movieId: integer (nullable = true)\n",
      " |-- movieInfo: struct (nullable = false)\n",
      " |    |-- movieId: integer (nullable = true)\n",
      " |    |-- title: string (nullable = true)\n",
      " |    |-- release_date: string (nullable = true)\n",
      " |    |-- genres: array (nullable = true)\n",
      " |    |    |-- element: string (containsNull = true)\n",
      " |    |-- tmdbId: integer (nullable = true)\n",
      "\n"
     ]
    }
   ],
   "source": [
    "movies_map_df = movies_df.select('movieId', struct(movies_df.columns).alias('movieInfo'))\n",
    "movies_map_df.show(5, truncate=False)\n",
    "movies_map_df.printSchema()"
   ]
  },
  {
   "cell_type": "code",
   "execution_count": 28,
   "metadata": {},
   "outputs": [],
   "source": [
    "# writing movies data to Redis\n",
    "movies_list=movies_map_df.collect()\n",
    "for movie in movies_list:\n",
    "    k=movie['movieId']\n",
    "    v=movie['movieInfo'].asDict()\n",
    "    redis_movies.hmset(k,v)"
   ]
  },
  {
   "cell_type": "code",
   "execution_count": 29,
   "metadata": {},
   "outputs": [
    {
     "name": "stdout",
     "output_type": "stream",
     "text": [
      "{b'movieId': b'10', b'tmdbId': b'710', b'title': b'GoldenEye', b'release_date': b'1995', b'genres': b\"['action', 'adventure', 'thriller']\"}\n",
      "\n",
      "GoldenEye\n",
      "710\n"
     ]
    }
   ],
   "source": [
    "# Quering a movie from redis\n",
    "movie_id=10\n",
    "print(redis_movies.hgetall(movie_id))\n",
    "print()\n",
    "print(redis_movies.hget(movie_id, 'title').decode())\n",
    "print(redis_movies.hget(movie_id, 'tmdbId').decode())"
   ]
  },
  {
   "cell_type": "markdown",
   "metadata": {},
   "source": [
    "### Summary \n",
    "\n",
    "From the previous steps we now have\n",
    " - ratings_df: spark dataframe that will be used in training the ALS Matrix Factorization Model \n",
    " - redis_ratings: redis_client connected to a redis database containing top ratings given by each user\n",
    " - redis_movies: redis_client connect to a redis database containing movie information"
   ]
  },
  {
   "cell_type": "code",
   "execution_count": 30,
   "metadata": {},
   "outputs": [
    {
     "name": "stdout",
     "output_type": "stream",
     "text": [
      "Ratings DataFrame\n",
      "+------+-------+------+\n",
      "|userId|movieId|rating|\n",
      "+------+-------+------+\n",
      "|1     |1      |4.0   |\n",
      "|1     |3      |4.0   |\n",
      "|1     |6      |4.0   |\n",
      "|1     |47     |5.0   |\n",
      "|1     |50     |5.0   |\n",
      "+------+-------+------+\n",
      "only showing top 5 rows\n",
      "\n",
      "\n",
      "Query Redis Movies for Movie details about movieId: 10\n",
      "{b'movieId': b'10', b'tmdbId': b'710', b'title': b'GoldenEye', b'release_date': b'1995', b'genres': b\"['action', 'adventure', 'thriller']\"}\n",
      "\n",
      "Query Redis Ratings for top User ratings for userId: 240\n",
      "[(b'39', 5.0), (b'34', 5.0), (b'2', 5.0), (b'19', 5.0), (b'1', 5.0)]\n"
     ]
    }
   ],
   "source": [
    "print(\"Ratings DataFrame\")\n",
    "ratings_df.show(5, truncate=False)\n",
    "print()\n",
    "print(\"Query Redis Movies for Movie details about movieId: {}\".format(movie_id))\n",
    "print(redis_movies.hgetall(movie_id))\n",
    "print()\n",
    "print(\"Query Redis Ratings for top User ratings for userId: {}\".format(uid))\n",
    "print(redis_ratings.zrange(uid, 0, n_top-1, desc=True, withscores=True))"
   ]
  },
  {
   "cell_type": "markdown",
   "metadata": {},
   "source": [
    "## Step 2: Train a recommmender model on the ratings data\n",
    "\n",
    "In the following blocks we will use the ratings data to build a collaborative filtering recommendation model using Apache Spark's implementation of ALS. \n",
    "\n",
    "[Collaborative filtering](https://en.wikipedia.org/wiki/Collaborative_filtering) is a recommendation approach that is effectively based on the \"wisdom of the crowd\". It makes the assumption that, if two people share similar preferences, then the things that one of them prefers could be good recommendations to make to the other. In other words, if user A tends to like certain movies, and user B shares some of these preferences with user A, then the movies that user A likes, that user B _has not yet seen_, may well be movies that user B will also like.\n",
    "\n",
    "In a similar manner, we can think about _items_ as being similar if they tend to be rated highly by the same people, on average. \n",
    "\n",
    "Hence these models are based on the combined, collaborative preferences and behavior of all users in aggregate. They tend to be very effective in practice (provided you have enough preference data to train the model). The ratings data we have is a form of _explicit preference data_, perfect for training collaborative filtering models.\n",
    "\n",
    "\n",
    "### Alternating Least Squares\n",
    "Alternating Least Squares (ALS) is a specific algorithm for solving a type of collaborative filtering model known as [matrix factorization (MF)](https://en.wikipedia.org/wiki/Matrix_decomposition). The core idea of MF is to represent the ratings as a _user-item ratings matrix_. In the diagram below you will see this matrix on the left (with users as _rows_ and movies as _columns_). The entries in this matrix are the ratings given by users to movies.\n",
    "\n",
    "You may also notice that the matrix has _missing entries_ because not all users have rated all movies. In this situation we refer to the data as _sparse_.\n",
    "\n",
    "![als-diagram.png](als-diagram.png)\n",
    "\n",
    "MF methods aim to find two much smaller matrices (one representing the _users_ and the other the _items_) that, when multiplied together, re-construct the original ratings matrix as closely as possible. This is know as _factorizing_ the original matrix, hence the name of the technique.\n",
    "\n",
    "The two smaller matrices are called _factor matrices_ (or _latent features_). The user and movie factor matrices are illustrated on the right in the diagram above. The idea is that each user factor vector is a compressed representation of the user's preferences and behavior. Likewise, each item factor vector is a compressed representation of the item. Once the model is trained, the factor vectors can be used to make recommendations, which is what you will do in the following sections.\n",
    "\n",
    "__Further reading:__\n",
    "* [Spark MLlib Collaborative Filtering](http://spark.apache.org/docs/latest/ml-collaborative-filtering.html)\n",
    "* [Alternating Least Squares and collaborative filtering](https://datasciencemadesimpler.wordpress.com/tag/alternating-least-squares/)\n",
    "* [Quora question on Alternating Least Squares](https://www.quora.com/What-is-the-Alternating-Least-Squares-method-in-recommendation-systems-And-why-does-this-algorithm-work-intuition-behind-this)\n",
    "\n",
    "Fortunately, Spark's MLlib machine learning library has a scalable, efficient implementation of matrix factorization built in, which we can use to train our recommendation model.\n",
    "\n",
    "**Spark's ALS takes the following inputs:**\n",
    " - numBlocks: the number of blocks the users and items will be partitioned into in order to parallelize computation (defaults to 10)\n",
    " - rank: the number of latent factors in the model (defaults to 10)\n",
    " - maxIter: the maximum number of iterations to run (defaults to 10)\n",
    " - regParam: the regularization parameter in ALS - used to prevent overfitting (defaults to 0.1)\n",
    " - implicitPrefs: specifies whether to use the explicit feedback ALS variant or the one adapted for implicit feedback data (defaults to false, which means it's using explicit feedback)\n",
    "   - alpha: This is a parameter applicable to the implicit feedback variant of ALS, which governs the baseline confidence in preference observations (defaults to 1.0)\n",
    " - nonnegative: This parameter specifies whether or not to use non-negative constraints for least squares (defaults to false)"
   ]
  },
  {
   "cell_type": "code",
   "execution_count": 31,
   "metadata": {},
   "outputs": [],
   "source": [
    "training_df,test_df = ratings_df.randomSplit([0.8, 0.2])"
   ]
  },
  {
   "cell_type": "code",
   "execution_count": 32,
   "metadata": {},
   "outputs": [],
   "source": [
    "from pyspark.ml.recommendation import ALS\n",
    "\n",
    "rank = 20  # number of latent factors\n",
    "maxIter = 10\n",
    "regParam=0.01  # prevent overfitting\n",
    "\n",
    "als = ALS(userCol=\"userId\", itemCol=\"movieId\", ratingCol=\"rating\", \n",
    "          regParam=regParam, \n",
    "          rank=rank, \n",
    "          maxIter=maxIter,\n",
    "          coldStartStrategy=\"drop\",\n",
    "          seed=12)\n",
    "\n",
    "model = als.fit(training_df)"
   ]
  },
  {
   "cell_type": "code",
   "execution_count": 33,
   "metadata": {},
   "outputs": [
    {
     "name": "stdout",
     "output_type": "stream",
     "text": [
      "+------+-------+------+\n",
      "|userId|movieId|rating|\n",
      "+------+-------+------+\n",
      "|1     |6      |4.0   |\n",
      "|1     |163    |5.0   |\n",
      "|1     |231    |5.0   |\n",
      "|1     |235    |4.0   |\n",
      "|1     |356    |4.0   |\n",
      "+------+-------+------+\n",
      "only showing top 5 rows\n",
      "\n",
      "+------+-------+------+----------+\n",
      "|userId|movieId|rating|prediction|\n",
      "+------+-------+------+----------+\n",
      "|133   |471    |4.0   |4.54487   |\n",
      "|218   |471    |4.0   |3.030225  |\n",
      "|462   |471    |2.5   |1.273783  |\n",
      "|387   |471    |3.0   |2.7084527 |\n",
      "|520   |471    |5.0   |3.0389757 |\n",
      "+------+-------+------+----------+\n",
      "only showing top 5 rows\n",
      "\n"
     ]
    }
   ],
   "source": [
    "test_df.show(5, truncate=False)\n",
    "predictions_df = model.transform(test_df)\n",
    "predictions_df.show(5, truncate=False)"
   ]
  },
  {
   "cell_type": "code",
   "execution_count": 34,
   "metadata": {},
   "outputs": [
    {
     "name": "stdout",
     "output_type": "stream",
     "text": [
      "the number of TOTAL predictions is: 19305\n",
      "the number of VALID predictions is: 19305\n"
     ]
    }
   ],
   "source": [
    "# in case we are not using coldStartStrategy=\"drop\"\n",
    "\n",
    "total_predictions_count = predictions_df.count()\n",
    "print('the number of TOTAL predictions is: {}'.format(total_predictions_count))\n",
    "\n",
    "predictions_df = predictions_df.dropna()\n",
    "\n",
    "valid_predictions_count = predictions_df.count()\n",
    "print('the number of VALID predictions is: {}'.format(valid_predictions_count))"
   ]
  },
  {
   "cell_type": "markdown",
   "metadata": {},
   "source": [
    "**Model Evaluation**"
   ]
  },
  {
   "cell_type": "code",
   "execution_count": 35,
   "metadata": {},
   "outputs": [
    {
     "data": {
      "text/plain": [
       "1.2419963442003508"
      ]
     },
     "execution_count": 35,
     "metadata": {},
     "output_type": "execute_result"
    }
   ],
   "source": [
    "from pyspark.ml.evaluation import RegressionEvaluator\n",
    "evaluator = RegressionEvaluator(metricName=\"rmse\", labelCol=\"rating\", predictionCol=\"prediction\")\n",
    "error = evaluator.evaluate(predictions_df)\n",
    "\n",
    "error"
   ]
  },
  {
   "cell_type": "markdown",
   "metadata": {},
   "source": [
    "### ML Tuning: model selection and hyperparameter tuning\n",
    "\n",
    "An important task in ML is `model selection`, or using data to find the best model or parameters for a given task. This is also called tuning. Tuning may be done for individual Estimators such as LogisticRegression, or for entire Pipelines which include multiple algorithms, featurization, and other steps. Users can tune an entire Pipeline at once, rather than tuning each element in the Pipeline separately.\n",
    "\n",
    "MLlib supports model selection using tools such as `CrossValidator` and `TrainValidationSplit`. From which we are using the `CrossValidator`. These tools require the following items:\n",
    " - Estimator: algorithm or Pipeline to tune\n",
    " - Set of ParamMaps: parameters to choose from, sometimes called a “parameter grid” to search over\n",
    " - Evaluator: metric to measure how well a fitted Model does on held-out test data\n",
    "\n",
    "At a high level, these model selection tools work as follows:\n",
    " - They split the input data into separate training and test datasets.\n",
    " - For each (training, test) pair, they iterate through the set of ParamMaps:\n",
    "   - For each ParamMap, they fit the Estimator using those parameters, get the fitted Model, and evaluate the Model’s performance using the Evaluator.\n",
    " - They select the Model produced by the best-performing set of parameters.\n",
    " \n",
    "The Evaluator can be a RegressionEvaluator for regression problems, a BinaryClassificationEvaluator for binary data, or a MulticlassClassificationEvaluator for multiclass problems. The default metric used to choose the best ParamMap can be overridden by the setMetricName method in each of these evaluators.\n",
    "\n",
    "To help construct the parameter grid, we are using the ParamGridBuilder utility."
   ]
  },
  {
   "cell_type": "code",
   "execution_count": 36,
   "metadata": {},
   "outputs": [],
   "source": [
    "from pyspark.ml.tuning import CrossValidator, ParamGridBuilder\n",
    "\n",
    "als = ALS(userCol=\"userId\", itemCol=\"movieId\", ratingCol=\"rating\",coldStartStrategy=\"drop\")\n",
    "\n",
    "# creating parameter grid (parameters to be tuned)\n",
    "param_grid = ParamGridBuilder() \\\n",
    "    .addGrid(als.rank, [10, 15, 20],) \\\n",
    "    .addGrid(als.maxIter, [10, 15],) \\\n",
    "    .addGrid(als.regParam, [0.01, 0.1, 0.2, 0.3],) \\\n",
    "    .build()\n",
    "\n",
    "evaluator = RegressionEvaluator(metricName=\"rmse\", labelCol=\"rating\")\n",
    "crossval = CrossValidator(estimator=als, \n",
    "                          estimatorParamMaps=param_grid,\n",
    "                          evaluator=evaluator,\n",
    "                          numFolds=3)\n",
    "\n",
    "cv_model = crossval.fit(training_df)\n",
    "best_model=cv_model.bestModel"
   ]
  },
  {
   "cell_type": "code",
   "execution_count": 37,
   "metadata": {},
   "outputs": [
    {
     "name": "stdout",
     "output_type": "stream",
     "text": [
      "best_rank: 10\n",
      "best_regParm: 0.2\n",
      "best_iterations: 10\n"
     ]
    }
   ],
   "source": [
    "best_rank=best_model.rank\n",
    "best_regParm=best_model._java_obj.parent().getRegParam()\n",
    "best_iterations=best_model._java_obj.parent().getMaxIter()\n",
    "\n",
    "print(\"best_rank: {}\".format(best_rank))\n",
    "print(\"best_regParm: {}\".format(best_regParm))\n",
    "print(\"best_iterations: {}\".format(best_iterations))"
   ]
  },
  {
   "cell_type": "code",
   "execution_count": 38,
   "metadata": {},
   "outputs": [
    {
     "name": "stdout",
     "output_type": "stream",
     "text": [
      "+------+-------+------+----------+\n",
      "|userId|movieId|rating|prediction|\n",
      "+------+-------+------+----------+\n",
      "|133   |471    |4.0   |2.6533482 |\n",
      "|218   |471    |4.0   |2.90127   |\n",
      "|462   |471    |2.5   |2.543425  |\n",
      "|387   |471    |3.0   |2.9286814 |\n",
      "|520   |471    |5.0   |3.3560743 |\n",
      "+------+-------+------+----------+\n",
      "only showing top 5 rows\n",
      "\n"
     ]
    },
    {
     "data": {
      "text/plain": [
       "0.8855058733012662"
      ]
     },
     "execution_count": 38,
     "metadata": {},
     "output_type": "execute_result"
    }
   ],
   "source": [
    "evaluator = RegressionEvaluator(metricName=\"rmse\", labelCol=\"rating\", predictionCol=\"prediction\")\n",
    "\n",
    "predictions_df = best_model.transform(test_df)\n",
    "predictions_df.show(5, truncate=False)\n",
    "\n",
    "\n",
    "error = evaluator.evaluate(predictions_df)\n",
    "error"
   ]
  },
  {
   "cell_type": "markdown",
   "metadata": {},
   "source": [
    "### Using the Model\n",
    "- userFactors\n",
    "- itemFactors\n",
    "- recommendForAllUsers\n",
    "- recommendForAllItems\n",
    "- recommendForUserSubset\n",
    "- recommendForItemSubset"
   ]
  },
  {
   "cell_type": "code",
   "execution_count": 39,
   "metadata": {},
   "outputs": [
    {
     "name": "stdout",
     "output_type": "stream",
     "text": [
      "+---+--------------------+\n",
      "| id|            features|\n",
      "+---+--------------------+\n",
      "| 10|[-0.80464363, -0....|\n",
      "| 20|[0.03559533, -0.2...|\n",
      "| 30|[-0.122175545, -0...|\n",
      "| 40|[-0.09842649, -0....|\n",
      "| 50|[0.5106192, -0.01...|\n",
      "+---+--------------------+\n",
      "only showing top 5 rows\n",
      "\n",
      "+---+--------------------+\n",
      "| id|            features|\n",
      "+---+--------------------+\n",
      "| 10|[-0.2636927, -0.1...|\n",
      "| 20|[0.20660873, -0.2...|\n",
      "| 30|[1.5751286, -0.26...|\n",
      "| 40|[0.24460384, -0.0...|\n",
      "| 50|[0.29823792, -0.2...|\n",
      "+---+--------------------+\n",
      "only showing top 5 rows\n",
      "\n"
     ]
    }
   ],
   "source": [
    "best_model.userFactors.show(5)\n",
    "best_model.itemFactors.show(5)"
   ]
  },
  {
   "cell_type": "markdown",
   "metadata": {},
   "source": [
    "## Step 3: Persisting the model [REDIS]\n",
    "\n"
   ]
  },
  {
   "cell_type": "markdown",
   "metadata": {},
   "source": [
    "### Writing User Recommendations To Redis\n",
    "* generate recommendations from our model\n",
    "* write users receommendations to Redis"
   ]
  },
  {
   "cell_type": "code",
   "execution_count": 40,
   "metadata": {},
   "outputs": [
    {
     "name": "stdout",
     "output_type": "stream",
     "text": [
      "+------+-------------------------------------------------------------------------------------------------+\n",
      "|userId|recommendations                                                                                  |\n",
      "+------+-------------------------------------------------------------------------------------------------+\n",
      "|471   |[[3379, 4.9073014], [141718, 4.807711], [7815, 4.690309], [33649, 4.6704736], [7842, 4.65527]]   |\n",
      "|463   |[[141718, 5.231237], [3379, 5.1741843], [59018, 5.1065636], [60943, 5.1065636], [7842, 5.097358]]|\n",
      "|496   |[[3379, 4.8458376], [40491, 4.673306], [6818, 4.6711445], [5915, 4.636673], [5490, 4.636673]]    |\n",
      "|148   |[[141718, 4.8015585], [3379, 4.742105], [33649, 4.735005], [67618, 4.71983], [6818, 4.5980334]]  |\n",
      "|540   |[[141718, 5.65111], [3379, 5.64269], [7842, 5.5599465], [60943, 5.5523777], [59018, 5.5523777]]  |\n",
      "+------+-------------------------------------------------------------------------------------------------+\n",
      "only showing top 5 rows\n",
      "\n",
      "root\n",
      " |-- userId: integer (nullable = false)\n",
      " |-- recommendations: array (nullable = true)\n",
      " |    |-- element: struct (containsNull = true)\n",
      " |    |    |-- movieId: integer (nullable = true)\n",
      " |    |    |-- rating: float (nullable = true)\n",
      "\n",
      "writing model output user recommendations to redis sorted set\n",
      "DONE!\n"
     ]
    }
   ],
   "source": [
    "n_recs=5\n",
    "users_recommendations_df = best_model.recommendForAllUsers(n_recs)\n",
    "\n",
    "users_recommendations_df.show(5, truncate=False)\n",
    "users_recommendations_df.printSchema()\n",
    "\n",
    "print('writing model output user recommendations to redis sorted set')\n",
    "write_user_ratings_to_redis (redis_recommendations, users_recommendations_df, ratings_col='recommendations')\n",
    "print(\"DONE!\")"
   ]
  },
  {
   "cell_type": "code",
   "execution_count": 41,
   "metadata": {},
   "outputs": [
    {
     "data": {
      "text/plain": [
       "[(b'141718', 6.010890960693359),\n",
       " (b'67618', 5.8255696296691895),\n",
       " (b'33649', 5.642768859863281),\n",
       " (b'3086', 5.489073276519775),\n",
       " (b'3379', 5.447299957275391)]"
      ]
     },
     "execution_count": 41,
     "metadata": {},
     "output_type": "execute_result"
    }
   ],
   "source": [
    "uid=240\n",
    "n_top=5\n",
    "redis_recommendations.zrange(uid, 0, n_top-1, desc=True, withscores=True)"
   ]
  },
  {
   "cell_type": "markdown",
   "metadata": {},
   "source": [
    "## Step 4: Serving Recommendations From Redis\n",
    "* Given a user, find the movies with the highest predicted rating\n",
    "* Display the results as an HTML table in Jupyter"
   ]
  },
  {
   "cell_type": "code",
   "execution_count": 42,
   "metadata": {},
   "outputs": [
    {
     "name": "stdout",
     "output_type": "stream",
     "text": [
      "user: 240 top ratings: [(39, 5.0), (34, 5.0), (2, 5.0), (19, 5.0), (1, 5.0)]\n",
      "user: 240 top recommendations [(141718, 6.010890960693359), (67618, 5.8255696296691895), (33649, 5.642768859863281), (3086, 5.489073276519775), (3379, 5.447299957275391)]\n"
     ]
    }
   ],
   "source": [
    "# [(movieId, rating)]\n",
    "\n",
    "def get_user_ratings_from_redis(redis_client, uid, n_ratings=5):\n",
    "    user_ratings = redis_client.zrange(uid, 0, n_ratings-1, desc=True, withscores=True)\n",
    "    return list(map(lambda x: (int(x[0].decode()), float(x[1])), user_ratings))\n",
    "\n",
    "uid=240\n",
    "print(\"user: {} top ratings: {}\".format(uid, get_user_ratings_from_redis(redis_ratings, uid)))\n",
    "print(\"user: {} top recommendations {}\".format(uid, get_user_ratings_from_redis(redis_recommendations, uid)))"
   ]
  },
  {
   "cell_type": "code",
   "execution_count": 43,
   "metadata": {},
   "outputs": [
    {
     "name": "stdout",
     "output_type": "stream",
     "text": [
      "{'movieId': 1, 'tmdbId': 862, 'title': 'Toy Story', 'rating': 3.5}\n"
     ]
    }
   ],
   "source": [
    "def construct_movie_details(movie_id, rating=None):\n",
    "    \"\"\"\n",
    "        given a movie id, retrieves relevant movie information from redis\n",
    "        returns a dict containing movieId, tmdbId, title\n",
    "    \"\"\"\n",
    "    res = dict()\n",
    "    movie_info = redis_movies.hgetall(movie_id)\n",
    "    # \n",
    "    res['movieId']=movie_id\n",
    "    res['tmdbId']=int(movie_info[b'tmdbId'].decode())\n",
    "    res['title']=movie_info[b'title'].decode()\n",
    "        \n",
    "    if rating:\n",
    "        res['rating']=rating\n",
    "    return res\n",
    "\n",
    "print(construct_movie_details(1, 3.5))"
   ]
  },
  {
   "cell_type": "code",
   "execution_count": 44,
   "metadata": {},
   "outputs": [
    {
     "name": "stdout",
     "output_type": "stream",
     "text": [
      "[{'movieId': 39, 'tmdbId': 9603, 'title': 'Clueless', 'rating': 5.0}, {'movieId': 34, 'tmdbId': 9598, 'title': 'Babe', 'rating': 5.0}, {'movieId': 2, 'tmdbId': 8844, 'title': 'Jumanji', 'rating': 5.0}, {'movieId': 19, 'tmdbId': 9273, 'title': 'Ace Ventura: When Nature Calls', 'rating': 5.0}, {'movieId': 1, 'tmdbId': 862, 'title': 'Toy Story', 'rating': 5.0}]\n",
      "\n",
      "[{'movieId': 141718, 'tmdbId': 323373, 'title': 'Deathgasm', 'rating': 6.010890960693359}, {'movieId': 67618, 'tmdbId': 13808, 'title': 'Strictly Sexual', 'rating': 5.8255696296691895}, {'movieId': 33649, 'tmdbId': 19316, 'title': 'Saving Face', 'rating': 5.642768859863281}, {'movieId': 3086, 'tmdbId': 25898, 'title': 'Babes in Toyland', 'rating': 5.489073276519775}, {'movieId': 3379, 'tmdbId': 35412, 'title': 'On the Beach', 'rating': 5.447299957275391}]\n"
     ]
    }
   ],
   "source": [
    "def get_user_ratings(redis_client, uid, n_ratings=5):\n",
    "    user_ratings = get_user_ratings_from_redis(redis_client, uid, n_ratings)  # [(movieId, rating)\n",
    "    \n",
    "    # List [Dict (movieId, tmdbId, title, rating)]\n",
    "    return list(map(lambda x: construct_movie_details(x[0], x[1]), user_ratings))\n",
    "    #return user_ratings\n",
    "\n",
    "\n",
    "print(get_user_ratings(redis_ratings, 240))\n",
    "print()\n",
    "print(get_user_ratings(redis_recommendations, 240))"
   ]
  },
  {
   "cell_type": "markdown",
   "metadata": {},
   "source": [
    "**Fetching movie posters from TMdb API**"
   ]
  },
  {
   "cell_type": "code",
   "execution_count": 45,
   "metadata": {
    "hide_input": true
   },
   "outputs": [
    {
     "name": "stdout",
     "output_type": "stream",
     "text": [
      "movie title: Jumanji\n",
      "movie_poster_url: https://image.tmdb.org/t/p/w500/vgpXmVaVyUL7GGiDeiK1mKEKzcX.jpg\n"
     ]
    },
    {
     "data": {
      "image/jpeg": "[encoded data removed]",
      "text/plain": [
       "<IPython.core.display.Image object>"
      ]
     },
     "metadata": {
      "image/jpeg": {
       "width": 200
      }
     },
     "output_type": "display_data"
    }
   ],
   "source": [
    "from IPython.display import Image, HTML, display\n",
    "import tmdbsimple as tmdb\n",
    "from tmdbsimple import APIKeyError\n",
    "# TMdb API key\n",
    "tmdb.API_KEY = '4b577aa255b7f9215deb1ed3933b0d7c'\n",
    "\n",
    "def get_poster_url(tmdbid):\n",
    "    \"\"\"Fetch movie poster image URL from TMDb API given a tmdbId\"\"\"\n",
    "    IMAGE_URL = 'https://image.tmdb.org/t/p/w500'  # base URL for TMDB poster images\n",
    "    try:\n",
    "        try:\n",
    "            movie = tmdb.Movies(tmdbid).info()\n",
    "            poster_url = IMAGE_URL + movie['poster_path'] if 'poster_path' in movie and movie['poster_path'] is not None else \"\"\n",
    "            return poster_url\n",
    "        except APIKeyError as ae:\n",
    "            return \"KEY_ERR\"\n",
    "    except Exception as me:\n",
    "        return \"NA\"\n",
    "\n",
    "movie_id=2\n",
    "movie_info=construct_movie_details(movie_id)\n",
    "\n",
    "try:\n",
    "    print(\"movie title: {}\".format(movie_info['title']))\n",
    "    movie_poster_url =  get_poster_url(movie_info['tmdbId'])\n",
    "    print(\"movie_poster_url: {}\".format(movie_poster_url))\n",
    "    display(Image(movie_poster_url, width=200))\n",
    "except Exception as e:\n",
    "    print(e)\n",
    "    print(\"Cannot import tmdbsimple, no movie posters will be displayed!\")"
   ]
  },
  {
   "cell_type": "code",
   "execution_count": 46,
   "metadata": {},
   "outputs": [],
   "source": [
    "def display_user_recs(uid):\n",
    "    # utility function that constructs an HTML of ratings\n",
    "    # ---------------------------------------------------\n",
    "    def construct_recommendations_html(ratings):\n",
    "        html = \"<table border=0>\"\n",
    "        i = 0\n",
    "        for movie in ratings:\n",
    "            movie_im_url = get_poster_url(movie['tmdbId'])\n",
    "            movie_title = movie['title']\n",
    "            movie_rating = movie['rating']\n",
    "            #\n",
    "            html += \"<td><h5>{}</h5><img src={} width=150></img></td><td><h5>{:.2f}</h5></td>\".format(movie_title, movie_im_url, movie_rating)\n",
    "\n",
    "            i += 1\n",
    "            if i % 5 == 0:\n",
    "                html += \"</tr><tr>\"\n",
    "        html += \"</tr></table>\"\n",
    "        return html\n",
    "    \n",
    "    \n",
    "    # display the movies that this user has rated highly \n",
    "    # -------------------------------------------------\n",
    "    top_rated = get_user_ratings(redis_ratings, uid)  # List [Dict (movieId, tmdbId, rating, title)]\n",
    "    display(HTML(\"<h2>Top Ratings By User: {}</h2>\".format(uid)))\n",
    "    display(HTML(\"<h4>The user has rated the following movies highly:</h4>\"))\n",
    "    top_rated_html = construct_recommendations_html(top_rated)\n",
    "    display(HTML(top_rated_html))\n",
    "    \n",
    "    \n",
    "    # display the movies that this user has the highest score\n",
    "    # -------------------------------------------------    \n",
    "    recommendations = get_user_ratings(redis_recommendations, uid)\n",
    "    display(HTML(\"<br/>\"))\n",
    "    display(HTML(\"<h2>Top Recommendations For User: {}</h2>\".format(uid)))\n",
    "    display(HTML(\"<h4>The user is recommended these movies:</h4>\"))\n",
    "    recommendations_html = construct_recommendations_html(recommendations)\n",
    "    display(HTML(recommendations_html))"
   ]
  },
  {
   "cell_type": "markdown",
   "metadata": {
    "collapsed": true
   },
   "source": [
    "### Serving Recommendations\n",
    "\n",
    "Now, we're ready to generate movie recommendations, personalized for specific users.\n",
    "Given a user, we can recommend movies to that user based on the predicted ratings from our model. Recall that the collaborative filtering model means that, at a high level, we will recommend movies _liked by other users who liked the same movies as the given user_."
   ]
  },
  {
   "cell_type": "code",
   "execution_count": 47,
   "metadata": {},
   "outputs": [
    {
     "data": {
      "text/html": [
       "<h2>Top Ratings By User: 12</h2>"
      ],
      "text/plain": [
       "<IPython.core.display.HTML object>"
      ]
     },
     "metadata": {},
     "output_type": "display_data"
    },
    {
     "data": {
      "text/html": [
       "<h4>The user has rated the following movies highly:</h4>"
      ],
      "text/plain": [
       "<IPython.core.display.HTML object>"
      ]
     },
     "metadata": {},
     "output_type": "display_data"
    },
    {
     "data": {
      "text/html": [
       "<table border=0><td><h5>Emma</h5><img src=https://image.tmdb.org/t/p/w500/rZhCekNwWmkiLVpsYhSWfl9TkME.jpg width=150></img></td><td><h5>5.00</h5></td><td><h5>Junior</h5><img src=https://image.tmdb.org/t/p/w500/bwt2hkLGKo5KAVMCw4u1umUPhax.jpg width=150></img></td><td><h5>5.00</h5></td><td><h5>Circle of Friends</h5><img src=https://image.tmdb.org/t/p/w500/6T3hCdOWU49Y0hmuzceARU5yS5x.jpg width=150></img></td><td><h5>5.00</h5></td><td><h5>First Knight</h5><img src=https://image.tmdb.org/t/p/w500/8SRi8laZyPBdigx9qn7m3mriiRQ.jpg width=150></img></td><td><h5>5.00</h5></td><td><h5>Shine</h5><img src=https://image.tmdb.org/t/p/w500/yjcdr2YadLwnoyUrRxNzcHVptAq.jpg width=150></img></td><td><h5>5.00</h5></td></tr><tr></tr></table>"
      ],
      "text/plain": [
       "<IPython.core.display.HTML object>"
      ]
     },
     "metadata": {},
     "output_type": "display_data"
    },
    {
     "data": {
      "text/html": [
       "<br/>"
      ],
      "text/plain": [
       "<IPython.core.display.HTML object>"
      ]
     },
     "metadata": {},
     "output_type": "display_data"
    },
    {
     "data": {
      "text/html": [
       "<h2>Top Recommendations For User: 12</h2>"
      ],
      "text/plain": [
       "<IPython.core.display.HTML object>"
      ]
     },
     "metadata": {},
     "output_type": "display_data"
    },
    {
     "data": {
      "text/html": [
       "<h4>The user is recommended these movies:</h4>"
      ],
      "text/plain": [
       "<IPython.core.display.HTML object>"
      ]
     },
     "metadata": {},
     "output_type": "display_data"
    },
    {
     "data": {
      "text/html": [
       "<table border=0><td><h5>Strictly Sexual</h5><img src=https://image.tmdb.org/t/p/w500/bj2PkPh8RRigNHk7Tx5wcaZDeXt.jpg width=150></img></td><td><h5>6.28</h5></td><td><h5>12 Angry Men</h5><img src=https://image.tmdb.org/t/p/w500/ffPbzJWPUnextP5EP7SqYl3YBMY.jpg width=150></img></td><td><h5>6.13</h5></td><td><h5>Thief</h5><img src=https://image.tmdb.org/t/p/w500/d7Hr3bL54fQWHivuOpbRP8FWaft.jpg width=150></img></td><td><h5>6.04</h5></td><td><h5>Deathgasm</h5><img src=https://image.tmdb.org/t/p/w500/cwy9sGEOAuzpZXzXBVln1PZ4vxn.jpg width=150></img></td><td><h5>6.00</h5></td><td><h5>Saving Face</h5><img src=https://image.tmdb.org/t/p/w500/7upctoAqpN7OkTUsIqD3EApv8fx.jpg width=150></img></td><td><h5>5.99</h5></td></tr><tr></tr></table>"
      ],
      "text/plain": [
       "<IPython.core.display.HTML object>"
      ]
     },
     "metadata": {},
     "output_type": "display_data"
    }
   ],
   "source": [
    "display_user_recs(12)"
   ]
  },
  {
   "cell_type": "markdown",
   "metadata": {},
   "source": [
    "Note that since we are using a very small dataset, the results may not be too good."
   ]
  }
 ],
 "metadata": {
  "kernelspec": {
   "display_name": "Python 3",
   "language": "python",
   "name": "python3"
  },
  "language_info": {
   "codemirror_mode": {
    "name": "ipython",
    "version": 3
   },
   "file_extension": ".py",
   "mimetype": "text/x-python",
   "name": "python",
   "nbconvert_exporter": "python",
   "pygments_lexer": "ipython3",
   "version": "3.5.6"
  }
 },
 "nbformat": 4,
 "nbformat_minor": 1
}
