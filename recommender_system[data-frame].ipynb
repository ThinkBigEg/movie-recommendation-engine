{
 "cells": [
  {
   "cell_type": "code",
   "execution_count": 1,
   "metadata": {},
   "outputs": [],
   "source": [
    "# This tutorial for recommender engine usingCollaborative Filtering"
   ]
  },
  {
   "cell_type": "code",
   "execution_count": 2,
   "metadata": {},
   "outputs": [],
   "source": [
    "# it uses python version 3.5.6"
   ]
  },
  {
   "cell_type": "code",
   "execution_count": 3,
   "metadata": {},
   "outputs": [
    {
     "name": "stdout",
     "output_type": "stream",
     "text": [
      "Python 3.5.6 :: Anaconda, Inc.\r\n"
     ]
    }
   ],
   "source": [
    "! python --version"
   ]
  },
  {
   "cell_type": "code",
   "execution_count": 4,
   "metadata": {},
   "outputs": [],
   "source": [
    "# importing needed packages "
   ]
  },
  {
   "cell_type": "code",
   "execution_count": 5,
   "metadata": {},
   "outputs": [],
   "source": [
    "import os\n",
    "\n",
    "import urllib.request\n",
    "\n",
    "import zipfile\n",
    "\n",
    "from pyspark.context import SparkContext\n",
    "from pyspark.sql import SparkSession\n",
    "\n",
    "from pyspark.sql.types import IntegerType\n",
    "from pyspark.sql.types import FloatType\n",
    "\n",
    "from pyspark.ml.recommendation import ALS\n",
    "from pyspark.ml.tuning import TrainValidationSplit, ParamGridBuilder\n",
    "from pyspark.ml.evaluation import RegressionEvaluator\n",
    "\n",
    "from time import time\n",
    "\n",
    "from pyspark.sql.functions import lit\n",
    "\n",
    "\n",
    "##################################################\n",
    "####              UNUSED IMPORTS             ####\n",
    "#################################################\n",
    "# from pandas import Series, DataFrame\n",
    "# import pandas as pd\n",
    "# import math\n",
    "# from pyspark.sql.functions import udf, lit\n",
    "# from pyspark.sql.types import  BooleanType, StringType\n",
    "# import pyspark\n",
    "# from pyspark import SparkConf\n",
    "# from pyspark.mllib.recommendation import ALS\n",
    "# from pyspark.sql import Row\n",
    "# from pyspark.mllib.recommendation import MatrixFactorizationModel"
   ]
  },
  {
   "cell_type": "code",
   "execution_count": 6,
   "metadata": {},
   "outputs": [],
   "source": [
    "# Dataset info\n",
    "#     .Small: 100,000 ratings and 2,488 tag applications applied to 8,570 movies by 706 users. Last updated 4/2015.\n",
    "#     .Full: 21,000,000 ratings and 470,000 tag applications applied to 27,000 movies by 230,000 users. Last updated 4/2015."
   ]
  },
  {
   "cell_type": "code",
   "execution_count": 7,
   "metadata": {},
   "outputs": [],
   "source": [
    "complete_dataset_url = 'http://files.grouplens.org/datasets/movielens/ml-latest.zip'\n",
    "small_dataset_url = 'http://files.grouplens.org/datasets/movielens/ml-latest-small.zip'"
   ]
  },
  {
   "cell_type": "code",
   "execution_count": 8,
   "metadata": {},
   "outputs": [],
   "source": [
    "# Defining dataset location"
   ]
  },
  {
   "cell_type": "code",
   "execution_count": 9,
   "metadata": {},
   "outputs": [],
   "source": [
    "if not os.path.exists('datasets'):\n",
    "    os.makedirs('datasets')\n",
    "cwd = os.getcwd()\n",
    "datasets_path = os.path.join(cwd, 'datasets')\n",
    "complete_dataset_path = os.path.join(datasets_path, 'ml-latest.zip')\n",
    "small_dataset_path = os.path.join(datasets_path, 'ml-latest-small.zip')"
   ]
  },
  {
   "cell_type": "code",
   "execution_count": 10,
   "metadata": {},
   "outputs": [],
   "source": [
    "# Download dataset\n",
    "#     . small dataset size = 955 kb \n",
    "#     . complete dataset size = 264 mb\n",
    "#    in this tutorial we will use the small dataset"
   ]
  },
  {
   "cell_type": "code",
   "execution_count": 11,
   "metadata": {},
   "outputs": [],
   "source": [
    "if not os.path.isfile(small_dataset_path):\n",
    "    small_f = urllib.request.urlretrieve(small_dataset_url,small_dataset_path)\n",
    "# complete_f = urllib.request.urlretrieve (complete_dataset_url, complete_dataset_path)"
   ]
  },
  {
   "cell_type": "code",
   "execution_count": 12,
   "metadata": {},
   "outputs": [],
   "source": [
    "# Unzip datasets"
   ]
  },
  {
   "cell_type": "code",
   "execution_count": 13,
   "metadata": {},
   "outputs": [],
   "source": [
    "with zipfile.ZipFile(small_dataset_path, \"r\") as z:\n",
    "    z.extractall(datasets_path)\n",
    "\n",
    "# with zipfile.ZipFile(complete_dataset_path, \"r\") as z:\n",
    "#     z.extractall(datasets_path)"
   ]
  },
  {
   "cell_type": "code",
   "execution_count": 14,
   "metadata": {},
   "outputs": [],
   "source": [
    "# Intializing spark context"
   ]
  },
  {
   "cell_type": "code",
   "execution_count": 15,
   "metadata": {},
   "outputs": [],
   "source": [
    "spark = SparkSession \\\n",
    "   .builder \\\n",
    "    .master(\"local[*]\") \\\n",
    "   .appName(\"Recommender-system\") \\\n",
    "   .getOrCreate()\n",
    "\n",
    "sc =  spark.sparkContext"
   ]
  },
  {
   "cell_type": "code",
   "execution_count": 16,
   "metadata": {},
   "outputs": [],
   "source": [
    "# Load data set \n",
    "# this tables we will use from dataset\n",
    "\n",
    "# Each line in the ratings dataset (ratings.csv) is formatted as: userId,movieId,rating,timestamp\n",
    "\n",
    "# Each line in the movies (movies.csv) dataset is formatted as: movieId,title,genres"
   ]
  },
  {
   "cell_type": "code",
   "execution_count": 17,
   "metadata": {},
   "outputs": [],
   "source": [
    "# find ratings.csv path \n",
    "small_ratings_file = os.path.join(datasets_path, 'ml-latest-small', 'ratings.csv')\n",
    "# load ratings.csv file to dataframe and drop timespamp column \n",
    "rating_df = spark.read.format(\"csv\").option(\"header\", \"true\").load(small_ratings_file).drop('timestamp')"
   ]
  },
  {
   "cell_type": "code",
   "execution_count": 18,
   "metadata": {},
   "outputs": [
    {
     "name": "stdout",
     "output_type": "stream",
     "text": [
      "+------+-------+------+\n",
      "|userId|movieId|rating|\n",
      "+------+-------+------+\n",
      "|     1|      1|   4.0|\n",
      "|     1|      3|   4.0|\n",
      "|     1|      6|   4.0|\n",
      "|     1|     47|   5.0|\n",
      "|     1|     50|   5.0|\n",
      "|     1|     70|   3.0|\n",
      "|     1|    101|   5.0|\n",
      "|     1|    110|   4.0|\n",
      "|     1|    151|   5.0|\n",
      "|     1|    157|   5.0|\n",
      "|     1|    163|   5.0|\n",
      "|     1|    216|   5.0|\n",
      "|     1|    223|   3.0|\n",
      "|     1|    231|   5.0|\n",
      "|     1|    235|   4.0|\n",
      "|     1|    260|   5.0|\n",
      "|     1|    296|   3.0|\n",
      "|     1|    316|   3.0|\n",
      "|     1|    333|   5.0|\n",
      "|     1|    349|   4.0|\n",
      "+------+-------+------+\n",
      "only showing top 20 rows\n",
      "\n"
     ]
    }
   ],
   "source": [
    "# Ensuring that rating dataframe is loaded correctly \n",
    "rating_df.show()"
   ]
  },
  {
   "cell_type": "code",
   "execution_count": 19,
   "metadata": {},
   "outputs": [],
   "source": [
    "# Casting rating dataframe coloumns to int"
   ]
  },
  {
   "cell_type": "code",
   "execution_count": 20,
   "metadata": {},
   "outputs": [],
   "source": [
    "# casting userId to int\n",
    "rating_df = rating_df.withColumn('userId', rating_df['userId'].cast(IntegerType()))\n",
    "# casting movieId to int \n",
    "rating_df = rating_df.withColumn('movieId', rating_df['movieId'].cast(IntegerType()))\n",
    "#casting rating to float \n",
    "rating_df = rating_df.withColumn('rating', rating_df['rating'].cast(FloatType()))\n"
   ]
  },
  {
   "cell_type": "code",
   "execution_count": 21,
   "metadata": {},
   "outputs": [
    {
     "name": "stdout",
     "output_type": "stream",
     "text": [
      "root\n",
      " |-- userId: integer (nullable = true)\n",
      " |-- movieId: integer (nullable = true)\n",
      " |-- rating: float (nullable = true)\n",
      "\n"
     ]
    }
   ],
   "source": [
    "# print schema of rating dataframe \n",
    "rating_df.printSchema()"
   ]
  },
  {
   "cell_type": "code",
   "execution_count": 22,
   "metadata": {},
   "outputs": [],
   "source": [
    "# load movies.csv file"
   ]
  },
  {
   "cell_type": "code",
   "execution_count": 23,
   "metadata": {},
   "outputs": [],
   "source": [
    "# finding movies.csv file \n",
    "movies_file = os.path.join(datasets_path, 'ml-latest-small', 'movies.csv')\n",
    "# load movies.csv file to dataframe and drop genres column \n",
    "movies_df = spark.read.format(\"csv\").option(\"header\", \"true\").load(movies_file).drop('genres')"
   ]
  },
  {
   "cell_type": "code",
   "execution_count": 24,
   "metadata": {},
   "outputs": [
    {
     "name": "stdout",
     "output_type": "stream",
     "text": [
      "+-------+--------------------+\n",
      "|movieId|               title|\n",
      "+-------+--------------------+\n",
      "|      1|    Toy Story (1995)|\n",
      "|      2|      Jumanji (1995)|\n",
      "|      3|Grumpier Old Men ...|\n",
      "|      4|Waiting to Exhale...|\n",
      "|      5|Father of the Bri...|\n",
      "|      6|         Heat (1995)|\n",
      "|      7|      Sabrina (1995)|\n",
      "|      8| Tom and Huck (1995)|\n",
      "|      9| Sudden Death (1995)|\n",
      "|     10|    GoldenEye (1995)|\n",
      "|     11|American Presiden...|\n",
      "|     12|Dracula: Dead and...|\n",
      "|     13|        Balto (1995)|\n",
      "|     14|        Nixon (1995)|\n",
      "|     15|Cutthroat Island ...|\n",
      "|     16|       Casino (1995)|\n",
      "|     17|Sense and Sensibi...|\n",
      "|     18|   Four Rooms (1995)|\n",
      "|     19|Ace Ventura: When...|\n",
      "|     20|  Money Train (1995)|\n",
      "+-------+--------------------+\n",
      "only showing top 20 rows\n",
      "\n"
     ]
    }
   ],
   "source": [
    "# ensuring that movies dataframe is loaded correctly\n",
    "movies_df.show()"
   ]
  },
  {
   "cell_type": "code",
   "execution_count": 25,
   "metadata": {},
   "outputs": [],
   "source": [
    "#casting movies dataframe to int "
   ]
  },
  {
   "cell_type": "code",
   "execution_count": 26,
   "metadata": {},
   "outputs": [],
   "source": [
    "movies_df = movies_df.withColumn('movieId' ,movies_df['movieId'].cast(IntegerType()))"
   ]
  },
  {
   "cell_type": "code",
   "execution_count": 27,
   "metadata": {},
   "outputs": [
    {
     "name": "stdout",
     "output_type": "stream",
     "text": [
      "root\n",
      " |-- movieId: integer (nullable = true)\n",
      " |-- title: string (nullable = true)\n",
      "\n"
     ]
    }
   ],
   "source": [
    "# print movies_df schema \n",
    "movies_df.printSchema()"
   ]
  },
  {
   "cell_type": "code",
   "execution_count": 28,
   "metadata": {},
   "outputs": [],
   "source": [
    "# Parsing and spliting  dataset  to rdds \n",
    "#     split dataset into\n",
    "#         . Traning dataset = 60%\n",
    "#         . Validation dataset = 20%\n",
    "#         . Test Dataset = 20%\n",
    "# note that we removed actual ratings from testing and validation dataset "
   ]
  },
  {
   "cell_type": "code",
   "execution_count": 29,
   "metadata": {},
   "outputs": [],
   "source": [
    "training_df,test_df = rating_df.randomSplit([0.8, 0.2])"
   ]
  },
  {
   "cell_type": "code",
   "execution_count": 30,
   "metadata": {},
   "outputs": [],
   "source": [
    "# Configuring and tunning our model"
   ]
  },
  {
   "cell_type": "code",
   "execution_count": 31,
   "metadata": {},
   "outputs": [],
   "source": [
    "als = ALS(userCol=\"userId\", itemCol=\"movieId\", ratingCol=\"rating\",coldStartStrategy=\"drop\")\n",
    "\n",
    "param_grid = ParamGridBuilder().addGrid(\n",
    "    als.rank,\n",
    "    [10, 15],\n",
    ").addGrid(\n",
    "    als.maxIter,\n",
    "    [10, 15],\n",
    ").addGrid(\n",
    "    als.regParam,\n",
    "    [0.1,0.01,0.2],\n",
    ").build()\n",
    "\n",
    "evaluator = RegressionEvaluator(\n",
    "    metricName=\"rmse\",\n",
    "    labelCol=\"rating\",\n",
    ")\n",
    "tvs = TrainValidationSplit(\n",
    "    estimator=als,\n",
    "    estimatorParamMaps=param_grid,\n",
    "    evaluator=evaluator,\n",
    ")\n",
    "\n",
    "\n",
    "model = tvs.fit(training_df)\n",
    "\n",
    "bestmodel=model.bestModel\n"
   ]
  },
  {
   "cell_type": "code",
   "execution_count": 32,
   "metadata": {},
   "outputs": [],
   "source": [
    "# saving best model parameters"
   ]
  },
  {
   "cell_type": "code",
   "execution_count": 33,
   "metadata": {},
   "outputs": [],
   "source": [
    "best_rank=bestmodel.rank\n",
    "best_regParm=bestmodel._java_obj.parent().getRegParam()\n",
    "best_iterations=bestmodel._java_obj.parent().getMaxIter()\n"
   ]
  },
  {
   "cell_type": "code",
   "execution_count": 34,
   "metadata": {},
   "outputs": [],
   "source": [
    "# Saving the BEST model for future use "
   ]
  },
  {
   "cell_type": "code",
   "execution_count": 35,
   "metadata": {},
   "outputs": [
    {
     "name": "stdout",
     "output_type": "stream",
     "text": [
      "+------+-------+------+----------+\n",
      "|userId|movieId|rating|prediction|\n",
      "+------+-------+------+----------+\n",
      "|   409|    471|   3.0| 3.8107607|\n",
      "|   217|    471|   2.0|  2.882472|\n",
      "|   136|    471|   4.0| 3.6258903|\n",
      "|   216|    471|   3.0| 3.3953223|\n",
      "|   287|    471|   4.5| 2.4844363|\n",
      "|   608|    471|   1.5| 2.8663259|\n",
      "|   463|   1088|   3.5| 3.0804155|\n",
      "|   599|   1088|   2.5| 2.2535975|\n",
      "|    20|   1088|   4.5| 3.2102683|\n",
      "|    64|   1088|   4.0| 3.0665183|\n",
      "|   489|   1088|   4.5|  2.671477|\n",
      "|   583|   1088|   3.5|  3.203148|\n",
      "|   555|   1088|   4.0| 3.2863476|\n",
      "|   200|   1088|   4.0|  3.462613|\n",
      "|   525|   1088|   4.5| 2.9676776|\n",
      "|   600|   1088|   3.5|  2.377334|\n",
      "|   483|   1088|   3.0| 2.9967852|\n",
      "|   268|   1238|   5.0| 3.6687217|\n",
      "|   593|   1580|   1.5| 2.7443025|\n",
      "|   597|   1580|   3.0|  3.556638|\n",
      "+------+-------+------+----------+\n",
      "only showing top 20 rows\n",
      "\n"
     ]
    }
   ],
   "source": [
    "df= bestmodel.transform(test_df)\n",
    "df.show()"
   ]
  },
  {
   "cell_type": "code",
   "execution_count": 36,
   "metadata": {},
   "outputs": [],
   "source": [
    "# Test model using test dataset"
   ]
  },
  {
   "cell_type": "code",
   "execution_count": 37,
   "metadata": {},
   "outputs": [],
   "source": [
    "predictions_df = model.transform(test_df)\n",
    "\n",
    "evaluator = RegressionEvaluator(metricName=\"rmse\", labelCol=\"rating\",\n",
    "                                    predictionCol=\"prediction\")\n",
    "error = evaluator.evaluate(predictions_df)\n"
   ]
  },
  {
   "cell_type": "code",
   "execution_count": 38,
   "metadata": {},
   "outputs": [
    {
     "name": "stdout",
     "output_type": "stream",
     "text": [
      "For testing data the RMSE is 0.8740877900726891\n"
     ]
    }
   ],
   "source": [
    "# printing ther error of our model\n",
    "print ('For testing data the RMSE is {}'.format(error))"
   ]
  },
  {
   "cell_type": "code",
   "execution_count": 39,
   "metadata": {},
   "outputs": [],
   "source": [
    "################################################################################\n",
    "###             BUILDING MODEL USING COMPLETE DATASET                       ####\n",
    "################################################################################\n",
    "#N.B -> here we alos using the small one beacuse of memory "
   ]
  },
  {
   "cell_type": "code",
   "execution_count": 40,
   "metadata": {},
   "outputs": [],
   "source": [
    "# Load the complete dataset file\n",
    "############################################################################################\n",
    "## TAKE CARE HERE WE CHANGED USAGE OF COMPLETE PATH TO USE SMALL DUE TO MEMORY LIMITATION ##\n",
    "#############################################################################################\n",
    "complete_ratings_file = os.path.join(datasets_path, 'ml-latest-small', 'ratings.csv')\n"
   ]
  },
  {
   "cell_type": "code",
   "execution_count": 41,
   "metadata": {},
   "outputs": [
    {
     "name": "stdout",
     "output_type": "stream",
     "text": [
      "There are 100836 ratings in the complete dataset\n"
     ]
    }
   ],
   "source": [
    "# load ratings file to dataframe and removing timestamp column \n",
    "complete_ratings_df = spark.read.format(\"csv\").option(\"header\", \"true\").load(complete_ratings_file).drop('timestamp')\n",
    "# casting userId to int\n",
    "complete_ratings_df = complete_ratings_df.withColumn('userId', complete_ratings_df['userId'].cast(IntegerType()))\n",
    "# casting movieId to int \n",
    "complete_ratings_df = complete_ratings_df.withColumn('movieId', complete_ratings_df['movieId'].cast(IntegerType()))\n",
    "#casting rating to float \n",
    "complete_ratings_df = complete_ratings_df.withColumn('rating', complete_ratings_df['rating'].cast(FloatType()))\n",
    "    \n",
    "print (\"There are {} ratings in the complete dataset\".format((complete_ratings_df.count())))"
   ]
  },
  {
   "cell_type": "code",
   "execution_count": 42,
   "metadata": {},
   "outputs": [],
   "source": [
    "# Train model using complete dataset with chosen parameters\n",
    "\n",
    "# here we did't need validation dataset we need only test to find the error of our model so we splited our dataset to Training -> 70% test -> 30%"
   ]
  },
  {
   "cell_type": "code",
   "execution_count": 43,
   "metadata": {},
   "outputs": [],
   "source": [
    "training_df, test_df = complete_ratings_df.randomSplit([0.8,0.2])\n",
    "# building model\n",
    "als = ALS(maxIter=best_iterations, regParam=best_regParm,rank=best_rank, userCol=\"userId\", itemCol=\"movieId\", ratingCol=\"rating\",coldStartStrategy=\"drop\")\n",
    "model = als.fit(training_df)\n"
   ]
  },
  {
   "cell_type": "code",
   "execution_count": 44,
   "metadata": {},
   "outputs": [],
   "source": [
    "# CALCULATING MODEL ERROR  "
   ]
  },
  {
   "cell_type": "code",
   "execution_count": 45,
   "metadata": {},
   "outputs": [
    {
     "name": "stdout",
     "output_type": "stream",
     "text": [
      "For testing data the RMSE is 0.8795174682628885\n"
     ]
    }
   ],
   "source": [
    "predictions = model.transform(test_df)\n",
    "evaluator = RegressionEvaluator(metricName=\"rmse\", labelCol=\"rating\",predictionCol=\"prediction\")\n",
    "error = evaluator.evaluate(predictions)\n",
    "\n",
    "print ('For testing data the RMSE is {}'.format(error))"
   ]
  },
  {
   "cell_type": "code",
   "execution_count": 46,
   "metadata": {},
   "outputs": [],
   "source": [
    "################################################################################\n",
    "###               RECOMMENDATION ENGINE STARTS HERE                         ####\n",
    "################################################################################\n",
    "#N.B -> here we alos using the small one beacuse of memory "
   ]
  },
  {
   "cell_type": "code",
   "execution_count": 47,
   "metadata": {},
   "outputs": [],
   "source": [
    "# find movies.csv file location \n",
    "complete_movies_file = os.path.join(datasets_path, 'ml-latest-small', 'movies.csv')\n",
    "#load movies.csv filt to dataframe and removing genres coloumn \n",
    "complete_movies_df = spark.read.format(\"csv\").option(\"header\", \"true\").load(complete_movies_file).drop('genres')\n",
    "# casting movieId to integer \n",
    "complete_movies_df = complete_movies_df.withColumn('movieId' ,complete_movies_df['movieId'].cast(IntegerType()))"
   ]
  },
  {
   "cell_type": "code",
   "execution_count": 48,
   "metadata": {},
   "outputs": [
    {
     "name": "stdout",
     "output_type": "stream",
     "text": [
      "There are 9742 movies in the complete dataset \n"
     ]
    }
   ],
   "source": [
    "# counting movies \n",
    "print (\"There are {} movies in the complete dataset \".format(complete_movies_df.count()))"
   ]
  },
  {
   "cell_type": "code",
   "execution_count": 49,
   "metadata": {},
   "outputs": [],
   "source": [
    "# Calculate average rating for each movie"
   ]
  },
  {
   "cell_type": "code",
   "execution_count": 50,
   "metadata": {},
   "outputs": [],
   "source": [
    "movie_ID_with_avg_ratings_df=complete_ratings_df.groupby('movieId').agg({'rating':'avg'})\n",
    "movies_rating_counts_df=complete_ratings_df.groupby(\"movieId\").count()"
   ]
  },
  {
   "cell_type": "code",
   "execution_count": 51,
   "metadata": {},
   "outputs": [
    {
     "name": "stdout",
     "output_type": "stream",
     "text": [
      "+-------+-----+------------------+\n",
      "|movieId|count|       avg(rating)|\n",
      "+-------+-----+------------------+\n",
      "|   1580|  165| 3.487878787878788|\n",
      "|   2366|   25|              3.64|\n",
      "|   3175|   75|              3.58|\n",
      "|   1088|   42| 3.369047619047619|\n",
      "|  32460|    4|              4.25|\n",
      "|  44022|   23| 3.217391304347826|\n",
      "|  96488|    4|              4.25|\n",
      "|   1238|    9| 4.055555555555555|\n",
      "|   1342|   11|               2.5|\n",
      "|   1591|   26|2.6346153846153846|\n",
      "|   1645|   51| 3.411764705882353|\n",
      "|   4519|    9|3.3333333333333335|\n",
      "|   2142|   10|               2.7|\n",
      "|    471|   40|              3.55|\n",
      "|   3997|   12|1.8333333333333333|\n",
      "|    833|    6|               2.0|\n",
      "|   3918|    9|3.2777777777777777|\n",
      "|   7982|    4|              3.25|\n",
      "|   1959|   15|3.6666666666666665|\n",
      "|  68135|   10|              3.55|\n",
      "+-------+-----+------------------+\n",
      "only showing top 20 rows\n",
      "\n"
     ]
    }
   ],
   "source": [
    "result = movies_rating_counts_df.join(movie_ID_with_avg_ratings_df, on='movieId')\n",
    "result.show()\n",
    "\n",
    "# complete_ratings_df.count()"
   ]
  },
  {
   "cell_type": "code",
   "execution_count": 52,
   "metadata": {},
   "outputs": [],
   "source": [
    "# Add New User to our model "
   ]
  },
  {
   "cell_type": "code",
   "execution_count": 53,
   "metadata": {},
   "outputs": [],
   "source": [
    "new_user_ID = 1\n",
    "\n",
    "# The format of each line is (userID, movieID, rating)\n",
    "new_user_ratings = [\n",
    "     (1,2,4), # Star Wars (1977)\n",
    "     (1,1,3), # Toy Story (1995)\n",
    "     (1,16,2), # Casino (1995)\n",
    "     (1,25,3), # Leaving Las Vegas (1995)\n",
    "     (1,32,4), # Twelve Monkeys (a.k.a. 12 Monkeys) (1995)\n",
    "     (1,335,4), # Flintstones, The (1994)\n",
    "     (1,379,3), # Timecop (1994)\n",
    "     (1,296,2), # Pulp Fiction (1994)\n",
    "     (1,858,5) , # Godfather, The (1972)\n",
    "     (1,50,3) # Usual Suspects, The (1995)\n",
    "    ]\n",
    "\n",
    "# creating new_user_rating dataframe\n",
    "new_user_ratings_df = spark.createDataFrame(new_user_ratings)\n",
    "\n",
    "#casting userId,MovieId, rating to their appropriate datatypes\n",
    "new_user_ratings_df = new_user_ratings_df.withColumn('userId', new_user_ratings_df[0].cast(IntegerType()))\n",
    "new_user_ratings_df = new_user_ratings_df.withColumn('movieId', new_user_ratings_df[1].cast(IntegerType()))\n",
    "new_user_ratings_df = new_user_ratings_df.withColumn('rating', new_user_ratings_df[2].cast(FloatType()))\n",
    "\n",
    "# removing irrelevant data from new_user_ratings_df\n",
    "new_user_ratings_df = new_user_ratings_df.selectExpr(\"userId\",\"movieId\",\"rating\")\n"
   ]
  },
  {
   "cell_type": "code",
   "execution_count": 54,
   "metadata": {},
   "outputs": [
    {
     "name": "stdout",
     "output_type": "stream",
     "text": [
      "+------+-------+------+\n",
      "|userId|movieId|rating|\n",
      "+------+-------+------+\n",
      "|     1|      2|   4.0|\n",
      "|     1|      1|   3.0|\n",
      "|     1|     16|   2.0|\n",
      "|     1|     25|   3.0|\n",
      "|     1|     32|   4.0|\n",
      "|     1|    335|   4.0|\n",
      "|     1|    379|   3.0|\n",
      "|     1|    296|   2.0|\n",
      "|     1|    858|   5.0|\n",
      "|     1|     50|   3.0|\n",
      "+------+-------+------+\n",
      "\n"
     ]
    },
    {
     "data": {
      "text/plain": [
       "<bound method DataFrame.printSchema of DataFrame[userId: int, movieId: int, rating: float]>"
      ]
     },
     "execution_count": 54,
     "metadata": {},
     "output_type": "execute_result"
    }
   ],
   "source": [
    "#ensuring that new_user_ratings_df loaded correctly and checking schema\n",
    "new_user_ratings_df.show()\n",
    "new_user_ratings_df.printSchema"
   ]
  },
  {
   "cell_type": "code",
   "execution_count": 55,
   "metadata": {},
   "outputs": [],
   "source": [
    "# MERGE NEW USER RATINGS WITH THE COMPLETE RATINGS\n",
    "complete_data_with_new_ratings_df = complete_ratings_df.union(new_user_ratings_df)\n",
    "\n"
   ]
  },
  {
   "cell_type": "code",
   "execution_count": 56,
   "metadata": {},
   "outputs": [
    {
     "name": "stdout",
     "output_type": "stream",
     "text": [
      "100836\n",
      "100846\n"
     ]
    }
   ],
   "source": [
    "print(complete_ratings_df.count())\n",
    "print(complete_data_with_new_ratings_df.count())\n"
   ]
  },
  {
   "cell_type": "code",
   "execution_count": 57,
   "metadata": {},
   "outputs": [
    {
     "data": {
      "text/plain": [
       "100846"
      ]
     },
     "execution_count": 57,
     "metadata": {},
     "output_type": "execute_result"
    }
   ],
   "source": [
    "#checking that new_user_ratings added correctly\n",
    "#N.B recall that number of rating was less than this number by 10 ...\n",
    "complete_data_with_new_ratings_df.count()"
   ]
  },
  {
   "cell_type": "code",
   "execution_count": 58,
   "metadata": {},
   "outputs": [
    {
     "name": "stdout",
     "output_type": "stream",
     "text": [
      "+------+-------+------+\n",
      "|userId|movieId|rating|\n",
      "+------+-------+------+\n",
      "|     1|      1|   4.0|\n",
      "|     1|      3|   4.0|\n",
      "|     1|      6|   4.0|\n",
      "|     1|     47|   5.0|\n",
      "|     1|     50|   5.0|\n",
      "|     1|     70|   3.0|\n",
      "|     1|    101|   5.0|\n",
      "|     1|    110|   4.0|\n",
      "|     1|    151|   5.0|\n",
      "|     1|    157|   5.0|\n",
      "|     1|    163|   5.0|\n",
      "|     1|    216|   5.0|\n",
      "|     1|    223|   3.0|\n",
      "|     1|    231|   5.0|\n",
      "|     1|    235|   4.0|\n",
      "|     1|    260|   5.0|\n",
      "|     1|    296|   3.0|\n",
      "|     1|    316|   3.0|\n",
      "|     1|    333|   5.0|\n",
      "|     1|    349|   4.0|\n",
      "+------+-------+------+\n",
      "only showing top 20 rows\n",
      "\n"
     ]
    }
   ],
   "source": [
    "complete_data_with_new_ratings_df.show()"
   ]
  },
  {
   "cell_type": "code",
   "execution_count": 59,
   "metadata": {},
   "outputs": [
    {
     "name": "stdout",
     "output_type": "stream",
     "text": [
      "New model trained in 3.585 seconds\n"
     ]
    }
   ],
   "source": [
    "# TRAIN NEW MODEL WITH NEW ADDED DATA \n",
    "t0 = time()\n",
    "als = ALS(maxIter=best_iterations, regParam=best_regParm,rank=best_rank, userCol=\"userId\", itemCol=\"movieId\", ratingCol=\"rating\",coldStartStrategy=\"drop\")\n",
    "new_ratings_model = als.fit(complete_data_with_new_ratings_df)\n",
    "tt = time() - t0\n",
    "\n",
    "print (\"New model trained in {} seconds\".format(round(tt,3)))"
   ]
  },
  {
   "cell_type": "code",
   "execution_count": 60,
   "metadata": {},
   "outputs": [],
   "source": [
    "# taking invalid predictions "
   ]
  },
  {
   "cell_type": "code",
   "execution_count": 61,
   "metadata": {},
   "outputs": [],
   "source": [
    "# extracting new rated movies into a list \n",
    "invalid_predictions = list(map(lambda x: x[1], new_user_ratings))\n",
    "# extracting user_id from new_user_ratings_df\n",
    "user_id=new_user_ratings_df.select('userId').take(1)[0]['userId']"
   ]
  },
  {
   "cell_type": "code",
   "execution_count": 62,
   "metadata": {},
   "outputs": [
    {
     "name": "stdout",
     "output_type": "stream",
     "text": [
      "[2, 1, 16, 25, 32, 335, 379, 296, 858, 50]\n"
     ]
    }
   ],
   "source": [
    "#print pre-rated movies (invalid)\n",
    "print(invalid_predictions)"
   ]
  },
  {
   "cell_type": "code",
   "execution_count": 63,
   "metadata": {},
   "outputs": [],
   "source": [
    "# new_movies_df \n",
    "new_movies_df=complete_movies_df.filter(~complete_movies_df['movieId'].isin(invalid_predictions)).withColumn('userId', lit(user_id)).drop('title')"
   ]
  },
  {
   "cell_type": "code",
   "execution_count": 64,
   "metadata": {},
   "outputs": [
    {
     "name": "stdout",
     "output_type": "stream",
     "text": [
      "+------+-------+\n",
      "|userId|movieId|\n",
      "+------+-------+\n",
      "|     1|      3|\n",
      "|     1|      4|\n",
      "|     1|      5|\n",
      "|     1|      6|\n",
      "|     1|      7|\n",
      "|     1|      8|\n",
      "|     1|      9|\n",
      "|     1|     10|\n",
      "|     1|     11|\n",
      "|     1|     12|\n",
      "|     1|     13|\n",
      "|     1|     14|\n",
      "|     1|     15|\n",
      "|     1|     17|\n",
      "|     1|     18|\n",
      "|     1|     19|\n",
      "|     1|     20|\n",
      "|     1|     21|\n",
      "|     1|     22|\n",
      "|     1|     23|\n",
      "+------+-------+\n",
      "only showing top 20 rows\n",
      "\n"
     ]
    }
   ],
   "source": [
    "# print new_movies_df (this dataframe should be all from valid movies)\n",
    "new_movies_df=new_movies_df.select('userId', 'movieId').cache()\n",
    "new_movies_df.show()"
   ]
  },
  {
   "cell_type": "code",
   "execution_count": 65,
   "metadata": {},
   "outputs": [
    {
     "name": "stdout",
     "output_type": "stream",
     "text": [
      "+------+-------+\n",
      "|userId|movieId|\n",
      "+------+-------+\n",
      "|     1|      3|\n",
      "|     1|      4|\n",
      "|     1|      5|\n",
      "|     1|      6|\n",
      "|     1|      7|\n",
      "|     1|      8|\n",
      "|     1|      9|\n",
      "|     1|     10|\n",
      "|     1|     11|\n",
      "|     1|     12|\n",
      "|     1|     13|\n",
      "|     1|     14|\n",
      "|     1|     15|\n",
      "|     1|     17|\n",
      "|     1|     18|\n",
      "|     1|     19|\n",
      "|     1|     20|\n",
      "|     1|     21|\n",
      "|     1|     22|\n",
      "|     1|     23|\n",
      "+------+-------+\n",
      "only showing top 20 rows\n",
      "\n",
      "root\n",
      " |-- userId: integer (nullable = false)\n",
      " |-- movieId: integer (nullable = true)\n",
      "\n"
     ]
    }
   ],
   "source": [
    "new_movies_df.show()\n",
    "new_movies_df.printSchema()"
   ]
  },
  {
   "cell_type": "code",
   "execution_count": 66,
   "metadata": {},
   "outputs": [
    {
     "name": "stdout",
     "output_type": "stream",
     "text": [
      "+---+--------------------+\n",
      "| id|            features|\n",
      "+---+--------------------+\n",
      "| 10|[-0.9754715, -0.4...|\n",
      "| 20|[-0.900464, -0.54...|\n",
      "| 30|[-0.76952726, -0....|\n",
      "| 40|[-0.8949454, -0.2...|\n",
      "| 50|[-0.37735137, -0....|\n",
      "| 60|[-0.6425216, -0.4...|\n",
      "| 70|[-0.75157, -0.181...|\n",
      "| 80|[-0.7566089, -0.2...|\n",
      "| 90|[-0.870818, -0.21...|\n",
      "|100|[-0.7092679, -0.4...|\n",
      "|110|[-0.77984166, -0....|\n",
      "|120|[-0.35440797, -0....|\n",
      "|130|[-0.35427156, -0....|\n",
      "|140|[-0.74142295, -0....|\n",
      "|150|[-0.58277303, -0....|\n",
      "|160|[-0.6341812, 0.28...|\n",
      "|170|[-0.53323555, -0....|\n",
      "|180|[-0.7423068, -0.1...|\n",
      "|190|[-0.7389823, -0.2...|\n",
      "|200|[-0.61469406, -0....|\n",
      "+---+--------------------+\n",
      "only showing top 20 rows\n",
      "\n"
     ]
    }
   ],
   "source": [
    "new_ratings_model.userFactors.show()"
   ]
  },
  {
   "cell_type": "code",
   "execution_count": 67,
   "metadata": {},
   "outputs": [
    {
     "name": "stdout",
     "output_type": "stream",
     "text": [
      "+------+-------+\n",
      "|userId|movieId|\n",
      "+------+-------+\n",
      "|     1|      3|\n",
      "|     1|      4|\n",
      "|     1|      5|\n",
      "|     1|      6|\n",
      "|     1|      7|\n",
      "|     1|      8|\n",
      "|     1|      9|\n",
      "|     1|     10|\n",
      "|     1|     11|\n",
      "|     1|     12|\n",
      "|     1|     13|\n",
      "|     1|     14|\n",
      "|     1|     15|\n",
      "|     1|     17|\n",
      "|     1|     18|\n",
      "|     1|     19|\n",
      "|     1|     20|\n",
      "|     1|     21|\n",
      "|     1|     22|\n",
      "|     1|     23|\n",
      "+------+-------+\n",
      "only showing top 20 rows\n",
      "\n"
     ]
    }
   ],
   "source": [
    "################################\n",
    "new_movies_df.show()"
   ]
  },
  {
   "cell_type": "code",
   "execution_count": 68,
   "metadata": {},
   "outputs": [
    {
     "name": "stdout",
     "output_type": "stream",
     "text": [
      "+------+-------+----------+\n",
      "|userId|movieId|prediction|\n",
      "+------+-------+----------+\n",
      "|     1|    471| 4.2508545|\n",
      "|     1|    496|     4.284|\n",
      "|     1|    833|  2.501002|\n",
      "|     1|   1088|  3.590363|\n",
      "|     1|   1238|  4.363654|\n",
      "|     1|   1342| 2.9687784|\n",
      "|     1|   1580| 3.9923284|\n",
      "|     1|   1591| 3.1282122|\n",
      "|     1|   1645| 3.9339345|\n",
      "|     1|   1829| 2.4741569|\n",
      "|     1|   1959| 4.0463004|\n",
      "|     1|   2122| 3.1428444|\n",
      "|     1|   2142| 3.3480856|\n",
      "|     1|   2366|  4.166148|\n",
      "|     1|   2659| 1.9612988|\n",
      "|     1|   2866|  3.935945|\n",
      "|     1|   3175| 4.0069532|\n",
      "|     1|   3794|  2.842034|\n",
      "|     1|   3918| 3.3349495|\n",
      "|     1|   3997|  2.276699|\n",
      "+------+-------+----------+\n",
      "only showing top 20 rows\n",
      "\n"
     ]
    }
   ],
   "source": [
    "# finding new user recommendations \n",
    "new_user_recommendations_df = bestmodel.transform(new_movies_df)\n",
    "new_user_recommendations_df.show()"
   ]
  },
  {
   "cell_type": "code",
   "execution_count": 69,
   "metadata": {},
   "outputs": [],
   "source": [
    "# joing new_user_recommendations_df with movies_rating_counts_df in order in order to recommend the highly rated movies\n",
    "new_user_rating_recommendation_df = new_user_recommendations_df.join(movies_rating_counts_df, on='movieId')"
   ]
  },
  {
   "cell_type": "code",
   "execution_count": 70,
   "metadata": {},
   "outputs": [
    {
     "data": {
      "text/plain": [
       "list"
      ]
     },
     "execution_count": 70,
     "metadata": {},
     "output_type": "execute_result"
    }
   ],
   "source": [
    "# Top 25 moveis recommended for user \n",
    "top_movies=new_user_rating_recommendation_df[(new_user_rating_recommendation_df['count'] >= 25)].head(25)\n",
    "type(top_movies)"
   ]
  },
  {
   "cell_type": "code",
   "execution_count": 71,
   "metadata": {},
   "outputs": [
    {
     "data": {
      "text/plain": [
       "[Row(movieId=471, userId=1, prediction=4.2508544921875, count=40),\n",
       " Row(movieId=1088, userId=1, prediction=3.590363025665283, count=42),\n",
       " Row(movieId=1580, userId=1, prediction=3.992328405380249, count=165),\n",
       " Row(movieId=1591, userId=1, prediction=3.1282122135162354, count=26),\n",
       " Row(movieId=1645, userId=1, prediction=3.933934450149536, count=51),\n",
       " Row(movieId=2366, userId=1, prediction=4.1661481857299805, count=25),\n",
       " Row(movieId=3175, userId=1, prediction=4.006953239440918, count=75),\n",
       " Row(movieId=1025, userId=1, prediction=4.28550910949707, count=25),\n",
       " Row(movieId=1084, userId=1, prediction=4.595296382904053, count=35),\n",
       " Row(movieId=1127, userId=1, prediction=4.0879082679748535, count=62),\n",
       " Row(movieId=1721, userId=1, prediction=3.8526930809020996, count=140),\n",
       " Row(movieId=2580, userId=1, prediction=4.513585567474365, count=39),\n",
       " Row(movieId=3698, userId=1, prediction=3.6218960285186768, count=34),\n",
       " Row(movieId=48780, userId=1, prediction=4.560726642608643, count=90),\n",
       " Row(movieId=69481, userId=1, prediction=4.664621353149414, count=34),\n",
       " Row(movieId=31, userId=1, prediction=3.625775098800659, count=38),\n",
       " Row(movieId=1270, userId=1, prediction=4.671733379364014, count=171),\n",
       " Row(movieId=1339, userId=1, prediction=4.052569389343262, count=29),\n",
       " Row(movieId=2393, userId=1, prediction=3.7060275077819824, count=33),\n",
       " Row(movieId=2572, userId=1, prediction=4.116518974304199, count=54),\n",
       " Row(movieId=3000, userId=1, prediction=4.674403190612793, count=48),\n",
       " Row(movieId=82459, userId=1, prediction=4.27851676940918, count=28),\n",
       " Row(movieId=1265, userId=1, prediction=4.505092620849609, count=143),\n",
       " Row(movieId=1884, userId=1, prediction=4.459346771240234, count=46),\n",
       " Row(movieId=2231, userId=1, prediction=4.339212894439697, count=36)]"
      ]
     },
     "execution_count": 71,
     "metadata": {},
     "output_type": "execute_result"
    }
   ],
   "source": [
    "# Prining Top 25 moveis recommended for user \n",
    "top_movies"
   ]
  },
  {
   "cell_type": "code",
   "execution_count": null,
   "metadata": {},
   "outputs": [],
   "source": []
  },
  {
   "cell_type": "code",
   "execution_count": null,
   "metadata": {},
   "outputs": [],
   "source": []
  }
 ],
 "metadata": {
  "kernelspec": {
   "display_name": "Python 3",
   "language": "python",
   "name": "python3"
  },
  "language_info": {
   "codemirror_mode": {
    "name": "ipython",
    "version": 3
   },
   "file_extension": ".py",
   "mimetype": "text/x-python",
   "name": "python",
   "nbconvert_exporter": "python",
   "pygments_lexer": "ipython3",
   "version": "3.7.0"
  }
 },
 "nbformat": 4,
 "nbformat_minor": 2
}
